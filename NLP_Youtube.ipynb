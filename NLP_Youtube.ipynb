{
 "cells": [
  {
   "cell_type": "code",
   "execution_count": 1,
   "metadata": {},
   "outputs": [
    {
     "name": "stdout",
     "output_type": "stream",
     "text": [
      "[nltk_data] Downloading package stopwords to\n",
      "[nltk_data]     /Users/andiedonovan/nltk_data...\n",
      "[nltk_data]   Package stopwords is already up-to-date!\n",
      "[nltk_data] Downloading package punkt to\n",
      "[nltk_data]     /Users/andiedonovan/nltk_data...\n",
      "[nltk_data]   Package punkt is already up-to-date!\n"
     ]
    }
   ],
   "source": [
    "import pandas as pd\n",
    "import os\n",
    "import csv\n",
    "import scipy\n",
    "import numpy as np\n",
    "import pandas as pd # data manipulation\n",
    "import random\n",
    "\n",
    "## NLTK\n",
    "import nltk\n",
    "from nltk.corpus import stopwords\n",
    "nltk.download('stopwords')\n",
    "nltk.download('punkt')\n",
    "from nltk.stem import PorterStemmer\n",
    "from nltk.tokenize import sent_tokenize, word_tokenize\n",
    "\n",
    "## SKLEARN\n",
    "import sklearn # machine learning\n",
    "from sklearn.feature_extraction.text import CountVectorizer\n",
    "from nltk.tokenize import sent_tokenize, word_tokenize\n",
    "from sklearn.model_selection import train_test_split\n",
    "from sklearn import metrics\n",
    "from sklearn.naive_bayes import MultinomialNB # multinomial Naive Bayes classifier is suitable for classification with discrete features (e.g., word counts for text classification). \n",
    "# The multinomial distribution normally requires integer feature counts"
   ]
  },
  {
   "cell_type": "code",
   "execution_count": 2,
   "metadata": {
    "collapsed": true
   },
   "outputs": [],
   "source": [
    "os.chdir('/Users/andiedonovan/myProjects/Youtube/')\n",
    "lab = pd.read_csv('labeledCom.csv', delimiter=\";\", skiprows=2, encoding='latin-1', engine='python')"
   ]
  },
  {
   "cell_type": "code",
   "execution_count": 3,
   "metadata": {},
   "outputs": [
    {
     "data": {
      "text/plain": [
       "4346"
      ]
     },
     "execution_count": 3,
     "metadata": {},
     "output_type": "execute_result"
    }
   ],
   "source": [
    "# print(lab.head(5))\n",
    "len(lab.index)\n"
   ]
  },
  {
   "cell_type": "code",
   "execution_count": 4,
   "metadata": {},
   "outputs": [
    {
     "name": "stdout",
     "output_type": "stream",
     "text": [
      "     1  \\\n",
      "0 -1.0   \n",
      "1  0.0   \n",
      "2  1.0   \n",
      "3  1.0   \n",
      "4  0.0   \n",
      "\n",
      "  Ive been waiting for this music video ever since the song came out on Hungry Ghosts  \\\n",
      "0  Everyone knows brand's papers from.\\nBut -No o...                                    \n",
      "1       ñYour paper cut balance is: \\n-£25279102771î                                    \n",
      "2  OH SHIT WHEN I SAW THIS ON MY FRONT PAGE.........                                    \n",
      "3                          Blowing my mind yet again                                    \n",
      "4               Should have gone with Dunder Mifflin                                    \n",
      "\n",
      "   Unnamed: 2  \n",
      "0         NaN  \n",
      "1         NaN  \n",
      "2         NaN  \n",
      "3         NaN  \n",
      "4         NaN  \n"
     ]
    }
   ],
   "source": [
    "print(lab.head(5))"
   ]
  },
  {
   "cell_type": "code",
   "execution_count": 5,
   "metadata": {
    "collapsed": true
   },
   "outputs": [],
   "source": [
    "lab.columns = [\n",
    "  'label',\n",
    "  'comment', \n",
    "  'column3'\n",
    "]"
   ]
  },
  {
   "cell_type": "code",
   "execution_count": 6,
   "metadata": {},
   "outputs": [
    {
     "name": "stdout",
     "output_type": "stream",
     "text": [
      "   label                                            comment  column3\n",
      "0   -1.0  Everyone knows brand's papers from.\\nBut -No o...      NaN\n",
      "1    0.0       ñYour paper cut balance is: \\n-£25279102771î      NaN\n",
      "2    1.0  OH SHIT WHEN I SAW THIS ON MY FRONT PAGE.........      NaN\n",
      "3    1.0                          Blowing my mind yet again      NaN\n",
      "4    0.0               Should have gone with Dunder Mifflin      NaN\n"
     ]
    }
   ],
   "source": [
    "print(lab.head(5))"
   ]
  },
  {
   "cell_type": "code",
   "execution_count": 7,
   "metadata": {
    "collapsed": true
   },
   "outputs": [],
   "source": [
    "lab = lab.drop('column3', axis = 1) # drop column 3 "
   ]
  },
  {
   "cell_type": "code",
   "execution_count": 8,
   "metadata": {},
   "outputs": [
    {
     "name": "stdout",
     "output_type": "stream",
     "text": [
      "Index(['label', 'comment'], dtype='object')\n"
     ]
    }
   ],
   "source": [
    "print(lab.columns)"
   ]
  },
  {
   "cell_type": "code",
   "execution_count": 9,
   "metadata": {},
   "outputs": [
    {
     "name": "stdout",
     "output_type": "stream",
     "text": [
      "['0', 'Everyone', 'knows', 'brand', \"'s\", 'papers', 'from.\\\\nBut', '-No', 'o', '...', '1', 'ñYour', 'paper', 'cut', 'balance', 'is', ':', '\\\\n-£25279102771î', '2', 'OH', 'SHIT', 'WHEN', 'I', 'SAW', 'THIS', 'ON', 'MY', 'FRONT', 'PAGE', '...', '...', '...', '3', 'Blowing', 'my', 'mind', 'yet', 'again', '4', 'Should', 'have', 'gone', 'with', 'Dunder', 'Mifflin', '5', 'Made', 'me', 'smile', '!', 'Great', 'work', '6', 'NaN', '7', 'The', 'mad', 'methodical', 'geniuses', 'do', 'it', 'again', '.', '8', 'Am', 'I', 'the', 'only', 'person', 'who', 'actually', 'loves', 'their', '...', '9', 'The', 'ad', 'was', 'the', 'best', '...', 'the', 'store', 'owner', 'saved', 'al', '...', '10', 'Waste', 'of', 'ink', 'and', 'paper', '!', '!', '!', '!', '!', '11', '*Lol', 'he', 'almost', 'fell', '**1:18*', '12', 'who', 'ever', 'thumbed', 'down', 'this', 'video', 'ya', 'mommas', 'a', 'hoe', '13', 'it', 'takes', '40', 'trees', 'to', 'create', 'this', 'mv', '14', '__', '15', 'Ah', 'yes', 'the', 'novelty', 'band', 'returns', '.', '16', 'This', 'music', 'reminds', 'me', 'of', 'FNAF', '2', 'song', 'by', 'TheLiv', '...', '17', 'Thanks', 'for', 'warning', 'us', 'if', 'we', 'have', 'seizures', 'caus', '...', '18', 'Fire', 'music', 'video', '19', 'I', 'like', 'it', 'keep', 'up', 'the', 'good', 'work', '.', 'Me', 'personally', '...', '20', 'Vàyanse', 'a', 'la', 'verga', '21', 'Vayanse', 'a', 'la', 'verga', '...', '.', 'No', 'mames', '...', 'Que', 'chingÑn', '...', '22', 'I', 'got', 'a', 'strange', 'nagging', 'sensation', 'that', 'kept', 'ma', '...', '23', 'Ok', 'Go', 'does', 'it', 'again', '!', '24', 'Should', 'have', 'been', 'called', '``', 'Destroy', 'the', 'Planet', \"''\", 'o', '...', '25', 'ohmygodtheymadeanotherone', '26', 'Their', 'music', 'videos', 'never', 'fail', 'to', 'amaze', 'me', '27', 'Boring', '.', 'Not', 'worth', 'it', '.', '28', 'If', 'this', 'is', 'real\\x83', 'what', 'a', 'waste', 'for', 'a', 'crappy', 'video', '!', '29', '________', '...', '4316', 'noice', '4317', 'So', 'excited', '4318', 'Excellent', 'job', '.', '4319', 'IM', 'SCREAMING', 'ITS', 'SO', 'BEAUTIFUL', '4320', 'ITS', 'TRIPPY', '4321', 'I', 'know', 'im', 'obssesed', 'with', 'you', 'guys', '4322', 'ooo', 'ca', \"n't\", 'wait', '4323', 'THIS', 'IS', 'AMAZING', '4324', 'Woooooohooooo', '4325', 'wonderful', '!', '4326', 'Not', 'even', 'the', 'cleaner', 'could', 'clean', 'that', 'mess', '4327', 'This', 'is', 'gon', 'na', 'be', 'good', '4328', 'New', 'Ok', 'Go', 'video', 'something', 'to', 'be', 'thankful', 'for', '.', '4329', 'Man', '...', 'looks', 'like', 'a', 'big', 'mess', 'to', 'clean', 'up', '4330', 'These', 'guys', 'still', 'make', 'the', 'best', 'videos', '.', '4331', 'Ok', 'Go', 'back', 'at', 'it', 'again', 'with', 'the', 'swell', 'music', 'an', '...', '4332', 'Finally', 'a', 'music', 'video', '4333', 'OH', 'SHIT', 'THEYRE', 'BACK', 'LETS', 'GOOOOOOOOOO', '4334', 'So', 'much', 'time', 'since', 'the', 'last', 'video', '!', '!', 'So', 'hyped', '4335', '<', '3', '4336', 'Men', 'in', 'tights', '4337', 'ITS', 'OBESSION', '4338', 'Never', 'clicked', 'so', 'quickly', '.', '4339', 'Yooo', '4340', 'Hello', 'fave', 'band', '4341', 'So', 'early', 'no', 'notification', 'yet', '4342', 'Yay', '4343', 'Two', 'days', '17', 'views', '?', '!', '!', '4344', 'wow', 'took', 'you', 'this', 'long', ':', ')', '4345', 'Love', 'the', 'video', 'tho', 'good', 'work', 'everyone', 'Name', ':', 'comment', ',', 'Length', ':', '4346', ',', 'dtype', ':', 'object']\n"
     ]
    }
   ],
   "source": [
    "x_sent = sent_tokenize(str(lab['comment']))\n",
    "x_word = word_tokenize(str(lab['comment']))\n",
    "# x_word = word_tokenize(lab.iloc[:,1])\n",
    "\n",
    "\n",
    "print(x_word)"
   ]
  },
  {
   "cell_type": "code",
   "execution_count": 10,
   "metadata": {},
   "outputs": [
    {
     "name": "stdout",
     "output_type": "stream",
     "text": [
      "['0', 'Everyone', 'knows', 'brand', \"'s\", 'papers', 'from.\\\\nBut', '-No', '...', '1', 'ñYour', 'paper', 'cut', 'balance', ':', '\\\\n-£25279102771î', '2', 'OH', 'SHIT', 'WHEN', 'I', 'SAW', 'THIS', 'ON', 'MY', 'FRONT', 'PAGE', '...', '...', '...', '3', 'Blowing', 'mind', 'yet', '4', 'Should', 'gone', 'Dunder', 'Mifflin', '5', 'Made', 'smile', '!', 'Great', 'work', '6', 'NaN', '7', 'The', 'mad', 'methodical', 'geniuses', '.', '8', 'Am', 'I', 'person', 'actually', 'loves', '...', '9', 'The', 'ad', 'best', '...', 'store', 'owner', 'saved', 'al', '...', '10', 'Waste', 'ink', 'paper', '!', '!', '!', '!', '!', '11', '*Lol', 'almost', 'fell', '**1:18*', '12', 'ever', 'thumbed', 'video', 'ya', 'mommas', 'hoe', '13', 'takes', '40', 'trees', 'create', 'mv', '14', '__', '15', 'Ah', 'yes', 'novelty', 'band', 'returns', '.', '16', 'This', 'music', 'reminds', 'FNAF', '2', 'song', 'TheLiv', '...', '17', 'Thanks', 'warning', 'us', 'seizures', 'caus', '...', '18', 'Fire', 'music', 'video', '19', 'I', 'like', 'keep', 'good', 'work', '.', 'Me', 'personally', '...', '20', 'Vàyanse', 'la', 'verga', '21', 'Vayanse', 'la', 'verga', '...', '.', 'No', 'mames', '...', 'Que', 'chingÑn', '...', '22', 'I', 'got', 'strange', 'nagging', 'sensation', 'kept', '...', '23', 'Ok', 'Go', '!', '24', 'Should', 'called', '``', 'Destroy', 'Planet', \"''\", '...', '25', 'ohmygodtheymadeanotherone', '26', 'Their', 'music', 'videos', 'never', 'fail', 'amaze', '27', 'Boring', '.', 'Not', 'worth', '.', '28', 'If', 'real\\x83', 'waste', 'crappy', 'video', '!', '29', '________', '...', '4316', 'noice', '4317', 'So', 'excited', '4318', 'Excellent', 'job', '.', '4319', 'IM', 'SCREAMING', 'ITS', 'SO', 'BEAUTIFUL', '4320', 'ITS', 'TRIPPY', '4321', 'I', 'know', 'im', 'obssesed', 'guys', '4322', 'ooo', 'ca', \"n't\", 'wait', '4323', 'THIS', 'IS', 'AMAZING', '4324', 'Woooooohooooo', '4325', 'wonderful', '!', '4326', 'Not', 'even', 'cleaner', 'could', 'clean', 'mess', '4327', 'This', 'gon', 'na', 'good', '4328', 'New', 'Ok', 'Go', 'video', 'something', 'thankful', '.', '4329', 'Man', '...', 'looks', 'like', 'big', 'mess', 'clean', '4330', 'These', 'guys', 'still', 'make', 'best', 'videos', '.', '4331', 'Ok', 'Go', 'back', 'swell', 'music', '...', '4332', 'Finally', 'music', 'video', '4333', 'OH', 'SHIT', 'THEYRE', 'BACK', 'LETS', 'GOOOOOOOOOO', '4334', 'So', 'much', 'time', 'since', 'last', 'video', '!', '!', 'So', 'hyped', '4335', '<', '3', '4336', 'Men', 'tights', '4337', 'ITS', 'OBESSION', '4338', 'Never', 'clicked', 'quickly', '.', '4339', 'Yooo', '4340', 'Hello', 'fave', 'band', '4341', 'So', 'early', 'notification', 'yet', '4342', 'Yay', '4343', 'Two', 'days', '17', 'views', '?', '!', '!', '4344', 'wow', 'took', 'long', ':', ')', '4345', 'Love', 'video', 'tho', 'good', 'work', 'everyone', 'Name', ':', 'comment', ',', 'Length', ':', '4346', ',', 'dtype', ':', 'object']\n"
     ]
    }
   ],
   "source": [
    "stop_words = set(stopwords.words('english')) # stop words that are not important to sentiment\n",
    "\n",
    "# print(stop_words)\n",
    "\n",
    "\n",
    "filtered = []\n",
    "for w in x_word:\n",
    "    if w not in stop_words:\n",
    "        filtered.append(w)\n",
    "\n",
    "print(filtered)"
   ]
  },
  {
   "cell_type": "code",
   "execution_count": 11,
   "metadata": {
    "collapsed": true
   },
   "outputs": [],
   "source": [
    "# coms = lab[,1]\n",
    "# comments = lab.iloc[:,1]\n",
    "\n",
    "# com_words = word_tokenize(comments)\n",
    "\n",
    "# print(comments.head(5))\n",
    "# type(comments) # pandas.core.series.Series\n",
    "# type(comments[1]) # string"
   ]
  },
  {
   "cell_type": "code",
   "execution_count": 12,
   "metadata": {},
   "outputs": [
    {
     "name": "stdout",
     "output_type": "stream",
     "text": [
      "['0', 'everyone', 'knows', 'brand', \"'s\", 'papers', 'from.\\\\nbut', '-no', '...', '1', 'ñyour', 'paper', 'cut', 'balance', ':', '\\\\n-£25279102771î', '2', 'oh', 'shit', 'when', 'i', 'saw', 'this', 'on', 'my', 'front', 'page', '...', '...', '...', '3', 'blowing', 'mind', 'yet', '4', 'should', 'gone', 'dunder', 'mifflin', '5', 'made', 'smile', '!', 'great', 'work', '6', 'nan', '7', 'the', 'mad', 'methodical', 'geniuses', '.', '8', 'am', 'i', 'person', 'actually', 'loves', '...', '9', 'the', 'ad', 'best', '...', 'store', 'owner', 'saved', 'al', '...', '10', 'waste', 'ink', 'paper', '!', '!', '!', '!', '!', '11', '*lol', 'almost', 'fell', '**1:18*', '12', 'ever', 'thumbed', 'video', 'ya', 'mommas', 'hoe', '13', 'takes', '40', 'trees', 'create', 'mv', '14', '__', '15', 'ah', 'yes', 'novelty', 'band', 'returns', '.', '16', 'this', 'music', 'reminds', 'fnaf', '2', 'song', 'theliv', '...', '17', 'thanks', 'warning', 'us', 'seizures', 'caus', '...', '18', 'fire', 'music', 'video', '19', 'i', 'like', 'keep', 'good', 'work', '.', 'me', 'personally', '...', '20', 'vàyanse', 'la', 'verga', '21', 'vayanse', 'la', 'verga', '...', '.', 'no', 'mames', '...', 'que', 'chingñn', '...', '22', 'i', 'got', 'strange', 'nagging', 'sensation', 'kept', '...', '23', 'ok', 'go', '!', '24', 'should', 'called', '``', 'destroy', 'planet', \"''\", '...', '25', 'ohmygodtheymadeanotherone', '26', 'their', 'music', 'videos', 'never', 'fail', 'amaze', '27', 'boring', '.', 'not', 'worth', '.', '28', 'if', 'real\\x83', 'waste', 'crappy', 'video', '!', '29', '________', '...', '4316', 'noice', '4317', 'so', 'excited', '4318', 'excellent', 'job', '.', '4319', 'im', 'screaming', 'its', 'so', 'beautiful', '4320', 'its', 'trippy', '4321', 'i', 'know', 'im', 'obssesed', 'guys', '4322', 'ooo', 'ca', \"n't\", 'wait', '4323', 'this', 'is', 'amazing', '4324', 'woooooohooooo', '4325', 'wonderful', '!', '4326', 'not', 'even', 'cleaner', 'could', 'clean', 'mess', '4327', 'this', 'gon', 'na', 'good', '4328', 'new', 'ok', 'go', 'video', 'something', 'thankful', '.', '4329', 'man', '...', 'looks', 'like', 'big', 'mess', 'clean', '4330', 'these', 'guys', 'still', 'make', 'best', 'videos', '.', '4331', 'ok', 'go', 'back', 'swell', 'music', '...', '4332', 'finally', 'music', 'video', '4333', 'oh', 'shit', 'theyre', 'back', 'lets', 'goooooooooo', '4334', 'so', 'much', 'time', 'since', 'last', 'video', '!', '!', 'so', 'hyped', '4335', '<', '3', '4336', 'men', 'tights', '4337', 'its', 'obession', '4338', 'never', 'clicked', 'quickly', '.', '4339', 'yooo', '4340', 'hello', 'fave', 'band', '4341', 'so', 'early', 'notification', 'yet', '4342', 'yay', '4343', 'two', 'days', '17', 'views', '?', '!', '!', '4344', 'wow', 'took', 'long', ':', ')', '4345', 'love', 'video', 'tho', 'good', 'work', 'everyone', 'name', ':', 'comment', ',', 'length', ':', '4346', ',', 'dtype', ':', 'object']\n"
     ]
    }
   ],
   "source": [
    "all_words = []\n",
    "for w in filtered:\n",
    "    y = str(w)\n",
    "    all_words.append(y.lower())  # turn to lower case strings if not already\n",
    "    \n",
    "print(all_words) "
   ]
  },
  {
   "cell_type": "code",
   "execution_count": 13,
   "metadata": {},
   "outputs": [
    {
     "name": "stdout",
     "output_type": "stream",
     "text": [
      "[('...', 18), ('!', 13), ('.', 10), ('video', 7), (':', 5), ('i', 5), ('music', 5), ('so', 5), ('this', 4), ('work', 3), ('good', 3), ('ok', 3), ('go', 3), ('its', 3), ('everyone', 2)]\n"
     ]
    }
   ],
   "source": [
    "all_words = nltk.FreqDist(all_words)\n",
    "# print(all_words.most_common(15))\n",
    "# print(all_words[\"wow\"])\n",
    "\n",
    "word_features = list(all_words.keys())[:1000] # new variable with 1000 most common words\n",
    "# print(word_features)\n",
    "\n",
    "\n",
    "print(all_words.most_common(15))"
   ]
  },
  {
   "cell_type": "code",
   "execution_count": null,
   "metadata": {
    "collapsed": true
   },
   "outputs": [],
   "source": []
  },
  {
   "cell_type": "code",
   "execution_count": 14,
   "metadata": {
    "collapsed": true
   },
   "outputs": [],
   "source": [
    "#random.shuffle(lab)\n",
    "\n",
    "# create training and test sets with x (comments) and y (labels)\n",
    "X_train, X_test, y_train, y_test = train_test_split(\n",
    "                                        lab[\"comment\"], lab[\"label\"], \n",
    "                                        test_size=0.25, \n",
    "                                       random_state=42)\n",
    "\n",
    "\n"
   ]
  },
  {
   "cell_type": "code",
   "execution_count": 15,
   "metadata": {},
   "outputs": [
    {
     "name": "stdout",
     "output_type": "stream",
     "text": [
      "    label                                            comment\n",
      "1     0.0       ñYour paper cut balance is: \\n-£25279102771î\n",
      "4     0.0               Should have gone with Dunder Mifflin\n",
      "13    0.0                it takes 40 trees to create this mv\n",
      "15    0.0                   Ah yes the novelty band returns.\n",
      "16    0.0  This music reminds me of FNAF 2 song by TheLiv...\n"
     ]
    }
   ],
   "source": [
    "zer_array = np.array(0)\n",
    " \n",
    "# neg_array = neg_array.append( df['label'].query('label' < 0) )\n",
    "# pos_array = pos_array.append( df['label'].query('label' > 0))\n",
    "zer_array = lab.loc[lab['label'] == 0 ]\n",
    "print(zer_array.head(5))\n",
    "\n"
   ]
  },
  {
   "cell_type": "code",
   "execution_count": 11,
   "metadata": {
    "collapsed": true
   },
   "outputs": [],
   "source": [
    "# count_vectorizer = CountVectorizer(stop_words=\"english\")"
   ]
  },
  {
   "cell_type": "code",
   "execution_count": 12,
   "metadata": {
    "collapsed": true
   },
   "outputs": [],
   "source": [
    "# count_train = count_vectorizer.fit_transform(X_train.values.astype('U')) # transform using only comment column fit for training data\n",
    "# count_test = count_vectorizer.transform(X_test.values.astype('U')) # transform using only comment column NOT fit"
   ]
  },
  {
   "cell_type": "code",
   "execution_count": 13,
   "metadata": {},
   "outputs": [
    {
     "name": "stdout",
     "output_type": "stream",
     "text": [
      "['00', '000', '01', '02', '05', '06', '08', '08rb05rtljq', '09', '0z4wztquq5', '10', '100', '1000', '10000', '1000000', '10000000', '100000____', '1000m', '1000s', '100k', '101563', '10i', '10like', '10pnwzmgx00', '11', '11750', '118', '12', '13', '13153', '13412', '136177', '14', '144', '1440p', '14500', '14th', '15', '150', '1500', '15000', '151163626849', '158621', '159591', '16', '161788', '161965', '17', '17477', '1774894872812793', '1789', '1795', '18', '18932', '18932http', '19', '19154', '1957', '1979048', '1980s', '1989s', '1bvpabezyrtwvrpevx5fuwd3vnmnhrjavq', '1fps', '1john', '1st', '20', '200', '2000', '2005', '2006', '20134', '2014', '2015', '2016', '2017', '2017____', '2018', '20381', '20m', '21', '210s', '214996001', '2179', '21st', '22', '23', '23505', '23932', '23rd', '24', '24533', '247', '24___', '25', '25279102771ó', '259', '25x', '2631913', '27', '27074', '277', '277cw', '28444yy', '2853', '29657', '2am', '2d', '2d_3d', '2i3dnjk', '2k', '2nd', '30', '300', '3000', '3047', '3061', '30sec', '30th', '31st', '33', '33536', '34fps', '360', '36692', '37', '38', '39', '3_', '3bri20fbon8', '3d', '3ds', '3k', '3rd', '40', '400pounds', '404', '41', '42', '420', '42613', '43', '4377', '44', '44165', '44549', '44727', '45687', '4872', '48k', '49', '4dp2gxkraf0', '4k', '4ua64hbsbuo', '50', '500', '500k', '50k', '51196', '5290', '53813', '54139', '55', '55730b50175f4cda', '56', '567', '57', '57_______', '58', '59', '5blq', '5mill', '5x', '60', '600', '62112', '6224', '63792', '6th', '70õs', '720', '75', '78294909878', '79isrit_czg', '7s', '80', '8022', '80ies', '80s', '80õs', '8288', '85k', '8s', '8vhmatipjow', '90k', '9243', '99', '_4lh8vfiira', '_50', '_80s_', '__', '___', '____', '_____', '______', '_______', '________', '________55555555555555', '_________', '_________55', '__________', '___________', '____________', '____________0___', '_____________', '______________', '_______________', '________________', '_________________', '__________________', '___________________', '____________________', '_____________________', '______________________', '_______________________', '__________________________', '____________________________', '_____________________________', '______________________________', '___________________________________', '_________________________________________________________', '____________________________________________________________________________________________________________________________________________________________', '_________________i', '_______________perfume_______', '________ok', '________pv_______', '______mv_______', '_____you', '_____é', '_____é_', '___line__', '___okgo', '__in_', '__ld_', '__made', '__nice', '__ok', '__okgo', '__perfume__________________', '_click', '_good', '_hr_m_', '_https', '_in_n', '_inen', '_inviting', '_inzig_r', '_john', '_obsessed_', '_omg', '_r_ff_n', '_r_tis_hen', '_tag', '_uf', '_ug_n', '_wait', '_êcheerê_', 'a6pzyn94doo', 'aa', 'aaaaaaaaaaaaaaa', 'aaaaaand', 'aaaaah', 'aaaaamaaaaazzzzziiiiiiiing', 'aaaaêlove', 'aai', 'abilities', 'ability', 'able', 'abs', 'absolute', 'absolutely', 'absurd', 'acabando', 'acabei', 'accept', 'acceptable', 'according', 'account', 'achieved', 'acid', 'acids', 'aciyoruz', 'acquisitions', 'act', 'action', 'actions', 'activism', 'actual', 'actually', 'ad', 'adam376392', 'add', 'added', 'addictive', 'adding', 'address', 'adesh', 'adhering', 'admire', 'admiro', 'admit', 'adopted', 'adorbs', 'ads', 'advert', 'advertise', 'advertisement', 'advertisements', 'advertising', 'advised', 'advocates', 'af', 'affected', 'affirmative', 'afford', 'affordable', 'africa', 'african', 'aftermath', 'againnnnn', 'againt', 'age', 'agency', 'agethe', 'aggjghhhhhhhh', 'aggressive', 'ago', 'agogo', 'agonizing', 'agradecer', 'agree', 'agreed', 'agrees', 'ah', 'ahead', 'ahhh', 'ahhhhhh', 'ahhhhhhh', 'aided', 'ainõt', 'air', 'aires', 'airlines', 'airtight', 'aisle', 'ajit', 'aka', 'akmfvof', 'al', 'alatorre', 'album', 'alert', 'alerts', 'alexis', 'algorithms', 'alien', 'aligned', 'alive', 'allo', 'allé', 'alot', 'aloud', 'alright', 'alt', 'alternative', 'althouh', 'alto', 'amateur', 'amaze', 'amazeballs', 'amazed', 'amazes', 'amazing', 'amazingly', 'amaznig', 'amazon', 'amazone', 'amazzing', 'ambitious', 'america', 'american', 'americanarama', 'americans', 'amo', 'amo_', 'amounted', 'amounts', 'amusement', 'amzing', 'analog', 'anddd', 'andercheetah360', 'andy', 'ang', 'angel', 'angels', 'angle', 'angry', 'animal', 'animals', 'animate', 'animated', 'animation', 'animations', 'animator', 'anitta', 'anj', 'anniversary', 'annoying', 'anotha', 'anteriores', 'anthony', 'anti', 'anticipation', 'antigua', 'anu', 'anxiously', 'anybody', 'anymore', 'anyoneõs', 'app', 'apparel', 'apparently', 'appear', 'appearance', 'applause', 'apples', 'apply', 'appreciate', 'appreciated', 'appreciating', 'approaching', 'approximately', 'aprisus', 'apunk', 'aq83e8', 'arabic', 'arcade', 'arctic', 'aren', 'arent', 'arenõt', 'argentina', 'arguably', 'argue', 'arguing', 'argument', 'army', 'armys', 'arrange', 'arrival', 'arrive', 'art', 'arte', 'article', 'artificial', 'artist', 'artistas', 'artistic', 'artists', 'arts', 'aseptic', 'asi', 'asian', 'asid', 'ask', 'asking', 'asl', 'aspect', 'aspects', 'ass', 'assemble', 'asses', 'asshole', 'assholes', 'assignment', 'assuage', 'assume', 'assurde', 'astounding', 'ate', 'attached', 'attempt', 'attention', 'attitude', 'auction', 'auctioned', 'audio', 'audrey', 'auslan', 'author', 'auto', 'automagically', 'automated', 'automatic', 'autustic', 'avant', 'average', 'avid', 'avoid', 'awaits', 'awake', 'award', 'awards', 'aware', 'away', 'awe', 'awesome', 'awesomeness', 'awful', 'awsome', 'ay', 'b01d93z89w', 'baaaaack', 'babe', 'baby', 'babymetal', 'bachelor', 'background', 'backstreet', 'backwards', 'bad', 'bag', 'bags', 'bake', 'balaban', 'balance', 'bald', 'ball', 'ballons', 'ballpark', 'balls', 'balvin', 'ban', 'band', 'banda', 'bands', 'bangsaaaaatttttt', 'bank', 'bankers', 'baptises', 'bar', 'barely', 'barley', 'barry', 'bars', 'baseline', 'basement', 'bashing', 'basic', 'basically', 'bastante', 'bastards', 'basura', 'battery', 'battle', 'bc', 'bear', 'bears', 'beast', 'beat', 'beats', 'beautiful', 'bed', 'bedava', 'beeen', 'begin', 'beginning', 'behavior', 'belarus', 'believable', 'believe', 'bell', 'bells', 'berhenti', 'best', 'bestcashjob', 'bet', 'bett', 'better', 'bfh8ilfcirq', 'bhullar', 'bible', 'big', 'biggest', 'billion', 'billions', 'bin', 'binge', 'birthday', 'birthdays', 'bis', 'bist', 'bit', 'bitcoin', 'biting', 'black', 'blackfriday', 'blacks', 'blah', 'bland', 'blank', 'blatant', 'blaue', 'blbost', 'ble', 'bleach', 'bleaching', 'bleachless', 'bleeding', 'bleh', 'bless', 'blessed', 'blew', 'blind', 'blinked', 'block', 'blogspot', 'blood', 'bloods', 'bloopers', 'blow', 'blowing', 'blown', 'blows', 'blue', 'bluescreened', 'board', 'boards', 'body', 'boi', 'bois', 'bold', 'bolivia', 'bomb', 'bonus', 'boo', 'boobs', 'booklets', 'boom', 'bored', 'boring', 'born', 'borrowed', 'boss', 'bother', 'bots', 'bottle', 'bouche', 'bought', 'boundaries', 'bout', 'bows', 'box', 'boy', 'boyfriend', 'boys', 'boyz', 'bpwm0fnpzss', 'braille', 'brain', 'brainwash', 'brainwashed', 'brainy', 'braitbart', 'brand', 'brands', 'bravi', 'bravo', 'break', 'breaking', 'breath', 'breathtaking', 'bree', 'bride_', 'bridge', 'brief', 'briefly', 'briljant', 'brillant', 'brilliant', 'bring', 'broadcast', 'broke', 'broken', 'bros', 'brought', 'browsing', 'brs', 'bruh', 'brutal', 'bryan', 'bs', 'bts', 'btw', 'bubblegum', 'bucket', 'buckingham', 'bucks', 'buddha', 'budget', 'buds', 'buen', 'buena', 'buenos', 'buffalo', 'built', 'bulk', 'bulkteller', 'bullshit', 'bunch', 'bundles', 'burgers', 'burn', 'burning', 'burnt', 'bus', 'business', 'buttholes', 'button', 'buuuut', 'buy', 'buying', 'buzzfeed', 'buzzkills', 'bye', 'cable', 'cad', 'cada', 'cafe', 'calculate', 'calculations', 'caliber', 'calibrating', 'called', 'calling', 'calm', 'came', 'camera', 'cames', 'camp', 'campaign', 'campo', 'can_', 'cancer', 'canci', 'cancion', 'cannon', 'canon', 'canvas', 'canõt', 'capable', 'capitalism', 'captioning', 'captions', 'captivating', 'capturing', 'carai', 'caras', 'carbon', 'card', 'cards', 'cardz', 'care', 'carebear', 'cared', 'career', 'careful', 'cares', 'cars', 'cartridge', 'cartridges', 'casa', 'case', 'cash', 'cashlink', 'cashthetasks', 'casting', 'catch', 'catchiest', 'catching', 'catchy', 'cattle', 'caught', 'cause', 'causes', 'cavallo', 'cease', 'centavos', 'centuries', 'century', 'ceremony', 'certainly', 'cette', 'cgi', 'ch', 'chairman', 'challenge', 'chance', 'change', 'changed', 'channel', 'channel_', 'channel__', 'characters', 'charge', 'charger', 'charities', 'charity', 'charles', 'chart', 'chat', 'che', 'cheap', 'cheaper', 'cheated', 'cheating', 'check', 'checked', 'checking', 'cheer', 'cheers', 'cheeseburgers', 'chemical', 'chemicals', 'chevy', 'chew', 'chick', 'child', 'children', 'chills', 'china', 'ching', 'chip', 'chis', 'chlorine', 'chocolate', 'choked', 'choose', 'choppy', 'chords', 'choreo', 'choreographer', 'choreography', 'christ', 'christmas', 'chroeography', 'chroma', 'chromakey', 'chrome', 'chung', 'church', 'ci', 'cikan', 'cinema', 'cinematic', 'cinematography', 'circleofthenine', 'city', 'cjlhj', 'ckin', 'cla', 'clap', 'claps', 'class', 'classem', 'clean', 'cleaned', 'cleanup', 'clear', 'clearly', 'clever', 'cleverer', 'click', 'clicked', 'clicking', 'clicks', 'client', 'clip', 'clipe', 'clips', 'close', 'closed', 'closer', 'closet', 'clothes', 'cloud', 'clouds_', 'cmn', 'coatti', 'cock', 'coco', 'code', 'coded', 'coffee', 'coherent', 'coiniz', 'cold', 'coldplay', 'collab', 'collaborate', 'collaborating', 'collaboration', 'collapsed', 'colleagues', 'collecting', 'collections', 'collective', 'collects', 'college', 'cologne', 'color', 'colored', 'colorful', 'colors', 'colossal', 'colour', 'coloured', 'com', 'combination', 'combined', 'combining', 'comcast', 'come', 'comeback', 'comentary', 'comes', 'comfort', 'coming', 'command', 'commandments', 'commands', 'comment', 'commenting', 'comments', 'commercial', 'commercialism', 'commercialized', 'commercials', 'commertial', 'commission', 'commitment', 'committed', 'common', 'communicate', 'como', 'comon', 'companies', 'company', 'comparable', 'compared', 'comparing', 'comparison', 'compelled', 'compete', 'competition', 'complain', 'complaining', 'complete', 'completely', 'complex', 'complexity', 'complicated', 'composed', 'composition', 'compression', 'computer', 'computerized', 'computers', 'comsumption', 'concentrate', 'concept', 'concepts', 'conceptualization', 'conceptualize', 'conceptually', 'concerned', 'concerning', 'concert', 'conclusion', 'condescended', 'condition', 'condom', 'confess', 'confused', 'confusing', 'confusion', 'congrats', 'congratulations', 'connect', 'conservation', 'consider', 'considerate', 'considered', 'considering', 'consistently', 'constantly', 'consumes', 'consumption', 'contain', 'container', 'content', 'continiously', 'continue', 'continues', 'continuing', 'contrary', 'contribute', 'controlled', 'controller', 'controlling', 'controversial', 'converse', 'converting', 'conveying', 'conveyor', 'cool', 'cooler', 'coolest', 'coool', 'cooool', 'coooool', 'cooperate', 'coordinate', 'copier', 'copies', 'copying', 'cord', 'coriographed', 'corner', 'corny', 'corporate', 'correct', 'correctly', 'cosa', 'cose', 'cost', 'costed', 'costly', 'costs', 'costumes', 'couldn', 'couldnõt', 'couldõve', 'count', 'counted', 'counterproductive', 'counting', 'countless', 'country', 'counts', 'couple', 'courage', 'course', 'cover', 'covered', 'covers', 'cow', 'cowardly', 'cowbell', 'cowspiracy', 'cracked', 'cramped', 'crap', 'crappy', 'crashed', 'crazier', 'crazy', 'crazyyyy', 'cream', 'create', 'creates', 'creating', 'creation', 'creations', 'creativ', 'creative', 'creativeasin', 'creatively', 'creativeêawesomeêlove', 'creativity', 'creativo', 'credit', 'creen', 'creo', 'crew', 'criatividade', 'criativos', 'cried', 'criminal', 'cringe', 'cringy', 'crips', 'cross', 'crossed', 'crossing', 'crowns', 'cruise', 'crying', 'cthulhu', 'ctrl', 'cttirqtm4f4', 'cuando', 'cuanto', 'cult', 'cup', 'cups', 'curiosity', 'curious', 'curisz', 'currency', 'current', 'curry', 'cus', 'custom', 'cut', 'cuteness', 'cuts', 'cutting', 'cutwi', 'cuz', 'cyber', 'cycled', 'd49vyub7ppk', 'da', 'dad', 'daft', 'daily', 'daito', 'dalai', 'dam', 'damage', 'dame', 'damian', 'damien', 'damn', 'damnnn', 'dan', 'dance', 'dancing', 'dang', 'daniel', 'daniela', 'dann', 'dare', 'daresay', 'dark', 'darkstone', 'das', 'data', 'day', 'days', 'days_', 'dead', 'deadpool', 'deaf', 'deal', 'dear', 'death', 'deathbed', 'debt', 'decade', 'december', 'decent', 'decide', 'decided', 'decision', 'dedicate', 'dedication', 'deep', 'defence', 'define', 'definitely', 'definition', 'deforestation', 'deforesting', 'defragmentation', 'deka', 'dekhiye', 'dekhiyehttps', 'del', 'delete', 'deleterious', 'deleting', 'delight', 'delightful', 'delightfully', 'deliver', 'delivering', 'delusional', 'dem', 'demais', 'demi', 'demonetized', 'demonitzed', 'denn', 'denying', 'deo', 'department', 'depeche', 'depleted', 'deposit', 'depot', 'depression', 'depth', 'der', 'deregulate', 'derek', 'desapoints', 'description', 'descs', 'desde', 'desease', 'deserve', 'deserved', 'deserves', 'design', 'designed', 'designers', 'desire', 'desperdiciado', 'desperdicio', 'despu', 'desses', 'destroy', 'destroyed', 'destruction', 'details', 'detrimental', 'deus', 'devessia', 'devil', 'devils', 'devin', 'devo', 'df5ql4rmdqa', 'di', 'di_', 'di_h', 'dia', 'dialogue', 'dichotomy', 'dick', 'dicks', 'did', 'didn', 'didnt', 'didnõt', 'die', 'died', 'difference', 'different', 'differn', 'difficult', 'diffrent', 'digital', 'digitally', 'dimension', 'dimian', 'diosmio', 'dioxide', 'dipshit', 'dir', 'directed', 'director', 'directorisnt', 'directors', 'dirty', 'dis', 'disable_polymer', 'disappears', 'disappoint', 'disappointed', 'disappointing', 'disappoints', 'discarded', 'disclaimers', 'discord', 'discount', 'discover', 'discovered', 'dise', 'disguised', 'disgusting', 'disingenuous', 'dislike', 'disliked', 'dislikes', 'disobedience', 'disorder', 'disperdiced', 'display', 'disposable', 'dissaapointed', 'dissapoint', 'distract', 'distracted', 'distrubed', 'diventare', 'diversity', 'dizzy', 'dj', 'djdarbyradio', 'dobra_marafoon', 'docs', 'document', 'documents', 'does', 'doesn', 'doesnt', 'dog', 'dogs', 'doh', 'doing', 'dollar', 'dollars', 'dollarstrue', 'doller', 'dominguez', 'don', 'donate', 'donated', 'donating', 'donation', 'dont', 'donõt', 'doodles', 'doot', 'dope', 'dopest', 'dor', 'dosent', 'dosnt', 'double', 'doubt', 'douche', 'dougherty', 'download', 'downloading', 'downright', 'downtown', 'downvoted', 'dprc', 'dramatic', 'drawing', 'draws', 'dream', 'dreams', 'drink', 'drinking', 'drive', 'driven', 'drivers', 'driving', 'drones', 'droooled', 'drop', 'dropped', 'drops', 'druckern', 'drugged', 'drugs', 'drum', 'drummer', 'drums', 'drunk', 'du', 'dual', 'dude', 'dudes', 'dull', 'dumb', 'dump', 'dumper', 'dunder', 'dundermifflin', 'dundermiflin', 'dundler', 'dunn', 'dunno', 'duolingo', 'duplicate', 'duran', 'dusted', 'duuuuude', 'dwight', 'dy4fatktazy', 'dying', 'dykstra', 'eachother', 'earlier', 'earliest', 'early', 'earn', 'earth', 'easier', 'easiest', 'easily', 'easy', 'eat', 'eaten', 'eaters', 'echaron', 'eco', 'ecol', 'ecology', 'ed', 'eddy', 'edge', 'edit', 'editar', 'edited', 'editing', 'editor', 'edm', 'effect', 'effective', 'effects', 'effence', 'efficiency', 'efficiently', 'effort', 'efforts', 'efx', 'egotistical', 'eh', 'ehh', 'eichenwald', 'el', 'elaborated', 'elderly', 'electricity', 'electronic', 'electronics', 'elementary', 'elettronica', 'elevenplay', 'em', 'em_co_shareflow_m', 'embryonic', 'emfcuoxglqw', 'emission', 'emissions', 'employee', 'employees', 'en', 'enaku', 'encouragement', 'encre', 'end', 'endeavor', 'ended', 'endless', 'energy', 'engaging', 'engineer', 'engineering', 'english', 'enh', 'enjoy', 'enjoyable', 'enjoyed', 'enjoying', 'enjoyment', 'enrubannage', 'ensalada', 'enter', 'entertain', 'entertaining', 'entertainment', 'entire', 'entonces', 'envelope', 'environment', 'environmental', 'environmentalist', 'environmentally', 'envy', 'ep2', 'eph', 'epic', 'epic_', 'epilepsy', 'epileptic', 'epileptics', 'episodes', 'epson', 'equal', 'equally', 'equipment', 'equivalent', 'era', 'erect', 'erika', 'error', 'errors', 'es', 'es0', 'esa', 'escape', 'escolosgicos', 'ese', 'eso', 'esos', 'espa', 'especially', 'espero', 'esque', 'essay', 'essays', 'essentially', 'esta', 'estan', 'et', 'eta', 'etccc', 'eternal', 'eukariote', 'eureka', 'everthing', 'everybody', 'everyday', 'everyones', 'everythingõll', 'everytime', 'evidence', 'evil', 'evolve', 'evolved', 'evolving', 'ewwww', 'exactly', 'example', 'exams', 'exceeds', 'excel', 'excelente', 'excellent', 'exception', 'exceptional', 'excess', 'excessive', 'excited', 'excitement', 'exciting', 'excuses', 'execs', 'executed', 'execution', 'executives', 'exist', 'existed', 'existence', 'existing', 'expand', 'expect', 'expectations', 'expected', 'expecting', 'expensive', 'experience', 'experienced', 'experiment', 'experimental', 'experimenting', 'explain', 'exploit', 'explore', 'export', 'exposed', 'express', 'expresses', 'expression', 'exspensive', 'external', 'extra', 'extremely', 'extremist', 'exxxxxcelente', 'eye', 'eyegasm', 'eyes', 'eynowyou', 'f3xtwajr', 'f_tos', 'facebook', 'facility', 'facists', 'fact', 'factor', 'factory', 'fade', 'faggoty', 'fags', 'fail', 'failed', 'failing', 'fails', 'failure', 'fair', 'faire', 'faith', 'fake', 'fakegirlxx', 'fall', 'fallen', 'falling', 'fallow', 'falls', 'fam', 'fame', 'familiar', 'family', 'family_', 'famoso', 'famous', 'fan', 'fanfare', 'fanfastic', 'fanno', 'fans', 'fantastic', 'far', 'fare', 'farming', 'fascinating', 'fascination', 'fast', 'fasted', 'faster', 'fat', 'father', 'fathom', 'fave', 'favenyesi', 'favor', 'favorite', 'favorites', 'favourite', 'fb', 'fcc', 'fcking', 'fear', 'feat', 'feature', 'featured', 'features', 'fee', 'feed', 'feeders', 'feel', 'feeling', 'feelings', 'feels', 'feelsbadman', 'felicidades', 'fell', 'fellas', 'fellow', 'felt', 'feminism', 'feminist', 'feminists', 'feww', 'ff', 'ffcxbbufn0c', 'field', 'fight', 'figure', 'figures', 'figuring', 'filled', 'film', 'filmed', 'filming', 'films', 'final', 'finally', 'finallyyy', 'finding', 'fine', 'finest', 'finger', 'fingering', 'fingers', 'fingerspell', 'fingerspelled', 'fingerspelling', 'finish', 'finna', 'firefox', 'fireworks', 'fish', 'fisher', 'fit', 'fix', 'fixwork', 'fkin', 'fkn', 'flansburg', 'flashing', 'flat', 'flatbushthemovie', 'flaws', 'flip', 'flipping', 'float', 'floor', 'floored', 'florence', 'fluent', 'fluff', 'flush', 'fly', 'flying', 'fml', 'fnaf', 'focus', 'foda', 'foi', 'foil', 'folks', 'follow', 'follower', 'food', 'fool', 'footage', 'football', 'footballer', 'footprint', 'forawrd', 'forbidden', 'forehead', 'forest', 'forests', 'forever', 'forget', 'forgettable', 'forgiveness', 'forgot', 'form', 'forming', 'formulas', 'forrest', 'forth', 'fortune', 'forward', 'fot_s', 'fps', 'fra', 'frame', 'france', 'frankly', 'freak', 'freakin', 'freaking', 'free', 'freely', 'freestyle', 'freeze', 'fresh', 'frickin', 'friday', 'friend', 'friendly', 'friends', 'friggin', 'frigging', 'fs17', 'ft', 'fuck', 'fucked', 'fuckin', 'fucking', 'fucks', 'fudge', 'fuel', 'fukc', 'fuking', 'fulltime', 'fully', 'fun', 'fund', 'funded', 'funding', 'funny', 'furious', 'furnace', 'future', 'futurism', 'fuuuuck', 'fuuuuuuuuuuuuck', 'g1ldv', 'g6trbq2tc', 'gabriel', 'gadgets', 'gah', 'gak', 'game', 'games', 'ganas', 'gang', 'garbage', 'garde', 'gas', 'gasto', 'gates', 'gautam', 'gave', 'gay', 'gayer', 'gaypop', 'gdfaynipwic', 'geeeeeez', 'gem', 'generally', 'generation', 'genial', 'geniale', 'genius', 'geniuses', 'genki', 'genre', 'gente', 'gentleman', 'gentlemen', 'genuine', 'geographic', 'germany', 'gets', 'gettin', 'getting', 'gg', 'ghey', 'ghosts', 'giant', 'giants', 'gica', 'gico', 'gift', 'giggle', 'gilaaaaaaaaa', 'gimmick', 'gimmicks', 'gimmicky', 'girlfriend', 'girls', 'giveaways', 'given', 'gives', 'giving', 'gj', 'gl', 'glad', 'glance', 'glass', 'glasses', 'gleilste', 'glitched', 'glitches', 'glitching', 'global', 'globalists', 'gmo', 'gnashing', 'goagsbsnbssbvhn', 'goal', 'goalkeeper', 'gobsmacked', 'gochannel', 'god', 'goddamn', 'gods', 'goes', 'gofundme', 'going', 'gokil', 'goldberg', 'golden', 'gomez', 'gone', 'gonna', 'goo', 'good', 'goodness', 'google', 'goood', 'gooooo', 'goooooooooo', 'gorillaz', 'gory', 'gosh', 'gospel', 'got', 'gotcha', 'gotta', 'gotten', 'gotwub', 'government', 'goõs', 'gp', 'grab', 'grabbed', 'grabbers', 'grade', 'graduated', 'grammy', 'gran', 'grand', 'grander', 'grandmasteradieuk', 'graphic', 'graphics', 'grate', 'gravity', 'great', 'greatdealsfromebay', 'greatest', 'greatly', 'greed', 'green', 'greenception', 'greenhouse', 'greenpeace', 'greenscreen', 'greetings', 'greg', 'greshamheuman98', 'grew', 'grids', 'grief', 'grinding', 'gross', 'gross_', 'groundbreaking', 'group', 'groupó', 'grown', 'growth', 'grr', 'guarantee', 'gucci', 'gud', 'gue', 'guess', 'guessing', 'guilt', 'guilty', 'guitar', 'guitars', 'guk50hx4c_k', 'gum', 'gumby', 'guns', 'gusto', 'gutair', 'guy', 'guyes', 'guys', 'guyz', 'h8764f', 'h__r_', 'h_b_', 'h_llo', 'ha', 'hab', 'habit', 'hablas', 'hacer', 'hacks', 'hadi', 'hadn', 'hag6', 'haha', 'hahaha', 'hai', 'hair', 'haldo', 'half', 'hall', 'hall_', 'hallelujah', 'halls', 'hallucinating', 'hammer', 'hand', 'handbags', 'handle', 'handlebars', 'hands', 'hanging', 'happen', 'happened', 'happening', 'happens', 'happy', 'harass', 'hard', 'hardcore', 'hardly', 'hardmode', 'hardswork', 'hardwork', 'harm', 'harmed', 'harness', 'harnesses', 'harsh', 'hate', 'hated', 'haters', 'hatitus', 'hats', 'haven', 'havent', 'havenõt', 'having', 'haya', 'hd', 'head', 'headache', 'headed', 'heads', 'health', 'hear', 'heard', 'hearing', 'heart', 'heaved', 'heaven', 'heavy', 'heck', 'heftig', 'hell', 'hello', 'help', 'helped', 'helps', 'here_https', 'heritage', 'hermoso', 'hernan', 'herron', 'hey', 'heynowyeslays', 'hi', 'hi_r', 'hide', 'hier', 'high', 'highlight', 'hilarious', 'hippies', 'hipster', 'hire', 'hired', 'hiring', 'history', 'hit', 'hits', 'hmmm', 'hoda', 'hoe', 'hold', 'holding', 'hole', 'holes', 'holi', 'holiday', 'holidays', 'holland', 'hollerado', 'hollywood', 'holocaust', 'holy', 'holycrap', 'homage', 'home', 'homeless', 'homework', 'homosexual', 'honda', 'honest', 'honestly', 'hook', 'hooked', 'hoooooly', 'hope', 'hoping', 'horrible', 'horse', 'hot', 'hour', 'hours', 'household', 'houston', 'howmany', 'howto', 'howww', 'howwww', 'hp', 'hqq', 'hribdtsfx10', 'html', 'html5', 'http', 'https', 'hueta', 'huge', 'huggers', 'huh', 'huhhh', 'human', 'humanos', 'humans', 'humpers', 'hunderassen', 'hundreds', 'hung', 'hungry', 'hunter', 'hurt', 'hurting', 'hurts', 'husband', 'hype', 'hyped', 'hypnotic', 'hypnotized', 'i_', 'i__h', 'i_h', 'i_s', 'ibotta', 'ic_h', 'ich', 'iconic', 'id', 'idea', 'ideas', 'idiocracy', 'idiot', 'idiots', 'idk', 'idol', 'idubbz', 'ight', 'igurufoundation', 'ik', 'il', 'ill', 'illiterate', 'iluminaci', 'ily', 'im', 'ima', 'image', 'imagery', 'images', 'imagination', 'imaginations', 'imagine', 'imagined', 'imagining', 'imeobeeon', 'imho', 'imma', 'imo', 'impact', 'impacted', 'impeccable', 'imply', 'important', 'impossibly', 'impossssible', 'impoverished', 'impresionante', 'impress', 'impressed', 'impressing', 'impression', 'impressive', 'improving', 'inb4', 'inch', 'include', 'included', 'incomedoze', 'inconsequential', 'incoperated', 'incorporate', 'incorporated', 'incre', 'increases', 'increasing', 'incredible', 'incredibly', 'increible', 'independent', 'indestructible', 'india', 'individual', 'indonesia', 'indulgent', 'industrial', 'industry', 'inecexl', 'inevitable', 'information', 'ingenious', 'ingenuity', 'ingles', 'initial', 'initially', 'ink', 'inkchronize__', 'inkjet', 'inkket', 'inks', 'inner', 'innovated', 'innovative', 'inquiries', 'insane', 'insaneeeeeee', 'insanely', 'insects', 'insert', 'inside', 'inspiration', 'inspire', 'inspired', 'inspiring', 'instagram', 'install', 'installation', 'instantly', 'instead', 'instructions', 'instruments', 'intense', 'intent', 'intentional', 'intentionally', 'interested', 'interesting', 'interests', 'interlochen', 'intern', 'internal', 'internet', 'interpret', 'intricate', 'intriguing', 'intro', 'introduce', 'introducing', 'intrusive', 'inventive', 'invite', 'involved', 'inxs', 'ip', 'ip7230', 'ip7250', 'ipads', 'iphone', 'iq', 'ir', 'iranian', 'ironic', 'irony', 'irresponsible', 'irritated', 'isn', 'isnt', 'isnõt', 'isps', 'isso', 'issue', 'it_', 'italia', 'itchy', 'itsobsession', 'itõs', 'ivana', 'ive', 'izmisljene', 'iõd', 'iõll', 'iõm', 'iõve', 'j_hr_', 'jack', 'jacket', 'jackson', 'jadedness', 'jaguar', 'jake', 'jam', 'james', 'jammed', 'jamming', 'jams', 'japan', 'japanese', 'javaxxxxt', 'javhose', 'javier', 'jaw', 'jaytee', 'jealous', 'jean', 'jebus', 'jehovah', 'jerks', 'jesus', 'jet', 'jewel', 'jews', 'jfw1ikbnkdi', 'jim', 'jk', 'jnmorgan', 'jo', 'job', 'jobismust', 'jobistrue', 'jobs', 'jobzipo', 'joe', 'john', 'join', 'joke', 'journey', 'joy', 'jttv', 'judge', 'judgement', 'judging', 'judgment', 'juice', 'jump', 'jumping', 'just', 'justifies', 'justin', 'justo', 'jx', 'kann', 'kathmandu', 'kathy', 'kattia', 'kcgv9ijweig', 'keem', 'keen', 'keeo', 'keepeth', 'keepnetneutrality', 'keepon', 'keeps', 'kenalpha3', 'keniatan', 'kept', 'keren', 'kerjasama', 'kertas', 'key', 'kfapfxrbiqu', 'ki', 'kick', 'kicking', 'kicks', 'kid', 'kidding', 'kids', 'kiku', 'kill', 'killed', 'killing', 'killjoy', 'kills', 'kind', 'kinda', 'kinetic', 'king', 'kings', 'kirby', 'kisses', 'kkkkkkkkkkkk', 'klubu', 'kneel', 'knew', 'knocked', 'know', 'knowing', 'knowledge', 'knowledge2know', 'known', 'knows', 'knuckles', 'korea', 'korea_', 'korg', 'kp', 'kpop', 'ksynq_xy_gy', 'ku', 'kudos', 'kulash', 'kurt', 'kurzen', 'kutu', 'kylo', 'l_ng_', 'la', 'label', 'labels', 'lack', 'lacked', 'ladies', 'lads', 'ladys', 'lama', 'lame', 'land', 'landed', 'landscape', 'language', 'large', 'larger', 'laser', 'late', 'lately', 'later', 'laughing', 'laura', 'lauren', 'law', 'lawsuit', 'lbitvdouo2s', 'le', 'lead', 'leaf', 'learn', 'learned', 'learning', 'leather', 'leave', 'leaves', 'leaving', 'led', 'lee', 'left', 'legend', 'legendary', 'legends', 'legit', 'legitimate', 'lego', 'length', 'lesser', 'lessons', 'let', 'lets', 'letter', 'letting', 'letõs', 'level', 'levels', 'lewdness', 'lgbtpedophiles', 'liar', 'library', 'lie', 'lied', 'life', 'light', 'lights', 'liiiiiiiit', 'lik', 'like', 'liked', 'likely', 'liker', 'likes', 'liking', 'lil', 'limb', 'limit', 'limited', 'limits', 'lindo', 'line', 'lines', 'link', 'linkcode', 'links', 'list', 'listen', 'listened', 'listening', 'lit', 'literally', 'little', 'live', 'lived', 'liverani', 'lives', 'livestrong', 'living', 'll', 'lmao', 'lo', 'lo7dzcjd9ruhpbn', 'load', 'loaded', 'locked', 'logan', 'logging', 'lokiêwas', 'lol', 'lolololol', 'lone', 'long', 'longated', 'longer', 'loo', 'look', 'looked', 'looking', 'looks', 'loompa', 'looove', 'loop', 'loose', 'lorax', 'lord', 'lorenzo', 'los', 'losing', 'lost', 'lot', 'lots', 'lov', 'love', 'loveall', 'loved', 'lovely', 'loves', 'loving', 'low', 'lower', 'lowest', 'lowó', 'luc', 'luciddreams', 'luck', 'lucky', 'lul', 'lulo', 'lulzirony', 'lupisvulpes', 'luv', 'luxury', 'ly', 'lying', 'lyrics', 'm8', 'm8ovki', 'm__ht_', 'm_in', 'm_in_', 'm_nn', 'ma', 'maaaan', 'mac', 'machen', 'machine', 'mad', 'maded', 'madehow', 'madre', 'mafiasolec', 'magazines', 'magenta', 'magic', 'magnitude', 'main', 'mainly', 'mais', 'maje', 'majong', 'major', 'majority', 'make', 'makea', 'makes', 'making', 'mal', 'malgasto', 'mames', 'man', 'man_zane', 'manabe', 'manage', 'managed', 'mankind', 'manually', 'manufacturer', 'manufacturers', 'map', 'marco', 'margins', 'mariel', 'mark', 'marketing', 'marks', 'mars', 'martinez', 'maske', 'masses', 'massive', 'master', 'masterpiece', 'masterpieces', 'masters', 'matar', 'mater', 'material', 'materials', 'math', 'maths', 'matrix', 'matt', 'matter', 'matthew', 'maybe', 'mayor', 'mbkyjkxzcks', 'mccormick', 'mdtc', 'me_why', 'meal', 'mean', 'meaningless', 'means', 'meant', 'meat', 'mechanical', 'mechanism', 'media', 'mediocre', 'medium', 'meehan', 'meendo', 'meendo10', 'meet', 'meeting', 'meglio', 'meh', 'mejores', 'melisma', 'melody', 'member', 'meme', 'memorible', 'men', 'mental', 'mentally', 'mention', 'mentioning', 'meof', 'merda', 'merde', 'mess', 'message', 'messed', 'messenger', 'messiah', 'messy', 'met', 'metal', 'metals', 'methodical', 'methods', 'metro', 'metto', 'meu', 'meusienne', 'mi', 'mic', 'micah', 'michael', 'michele', 'michelle', 'microgravity', 'middle', 'middleman', 'mifflin', 'mifflinõs', 'miflin', 'miftachul', 'migraines', 'mikiko', 'mil', 'militant', 'millennial', 'millennials', 'million', 'millions', 'milyon', 'mind', 'mindblowing', 'mindblown', 'mindbogglingly', 'mindhole', 'minds', 'minecraft', 'minecraftbro05', 'mineõs', 'minilogue', 'minimal', 'minimum', 'minority', 'minuets', 'minute', 'minutes', 'mir', 'miraculously', 'misprint', 'miss', 'missed', 'missing', 'mission', 'mistaken', 'mistakes', 'mit', 'mmm', 'mmmmmm', 'mo', 'mo3gtc4wvfo', 'moar', 'mocking', 'mode', 'model', 'models', 'modern', 'moly', 'mom', 'moment', 'monday', 'money', 'moneymylife', 'monitor', 'monkeys', 'monocolor', 'monologue', 'monologues', 'montage', 'month', 'months', 'moon', 'morality', 'morning', 'morta', 'morton', 'mosaic', 'moste', 'mother', 'motherfuckers', 'motion', 'motivation', 'motore', 'mouth', 'moved', 'movement', 'movements', 'moves', 'movie', 'movies', 'moving', 'mr', 'mrabell12', 'mradamo15', 'ms', 'msg', 'mske', 'msnbc', 'mtisha', 'mtv', 'mucho', 'muck', 'mud_', 'mudds53qnx', 'muita', 'mukycruz', 'multi', 'multiple', 'multiply', 'mulut', 'mundane', 'muoimelnick89', 'murdering', 'muselo', 'music', 'music_', 'musica', 'musical', 'musically', 'musicians', 'musics', 'musicstill', 'mustangmitche', 'mustõve', 'muuuch', 'muy', 'mv', 'mvp', 'mvs', 'myaka', 'myfixearning', 'myles', 'mystery', 'mysteryguitarman', 'mysticaleffect', 'n9b2kbc4sf8', 'n__h', 'n_u_n', 'nackt', 'nada', 'nagging', 'nah', 'nailed', 'nails', 'names', 'nan', 'nanobots', 'nark', 'nasty', 'natalie', 'nation', 'national', 'native', 'natural', 'nature', 'nayi', 'nazca', 'near', 'neat', 'nece', 'necessarily', 'necessary', 'need', 'needed', 'needing', 'needs', 'negative', 'negatively', 'neglect', 'negligent', 'neighborhoods', 'nerds', 'nergie', 'nervously', 'net', 'network', 'neutrality', 'new', 'newest', 'news', 'ng', 'nganga', 'nice', 'nicholas', 'niente', 'nigeria', 'niggerfaggot', 'niggers', 'night', 'nightcore', 'nightmare', 'nimos', 'nirvanas', 'nite', 'nlzqmoe3yk0', 'noch', 'nod', 'nominee', 'non', 'nonton', 'noodle', 'nooo', 'nooooo', 'noooooo', 'nope', 'normal', 'north', 'note', 'notebook', 'notes', 'notice', 'notification', 'nov', 'novelty', 'november', 'novo', 'novom', 'nowadays', 'nq1ngzzsas8', 'nuclear', 'nuevo', 'number', 'numerous', 'nunca', 'nuts', 'nvm', 'ny', 'o_o', 'obedience', 'obession', 'obey', 'obscene', 'obsessed', 'obsession', 'obsessionó', 'obsessively', 'obvious', 'obviously', 'ocd', 'oceans', 'odbornickom', 'odd', 'oddly', 'ofc', 'offended', 'office', 'official', 'officially', 'offline', 'ofjnsntvysw', 'oh', 'ohhh', 'ohmygodtheymadeanotherone', 'oil', 'ok', 'okay', 'okgo', 'okgoo', 'ol', 'old', 'oldpeter', 'oltre', 'olõ', 'omfg', 'omg', 'omgomgomg', 'omgprinterink', 'oml', 'ones', 'online', 'onlinenot', 'oof', 'oompa', 'ooo', 'ooohhhhh', 'ooooh', 'opening', 'opera', 'operate', 'opezdal', 'opinion', 'opinions', 'oppressed', 'oqgdho', 'orchestra', 'orchestrated', 'order', 'orders', 'org', 'organisation', 'organization', 'organizations', 'organizing', 'orientations', 'origami', 'original', 'os', 'osina', 'oufthor', 'outcome', 'outdid', 'outdo', 'outdoing', 'outjust', 'outside', 'outstanding', 'outward', 'outweigh', 'ovaltine', 'overall', 'overload', 'overly', 'overused', 'owner', 'owns', 'oxygen', 'oyu', 'p__rtn_r', 'p_itom', 'pace', 'pack', 'packages', 'page', 'pages', 'pai', 'paid', 'pain', 'painful', 'paired', 'pajamas', 'palitchoke', 'pam', 'panam', 'panel', 'panjang', 'papel', 'paper', 'papercut', 'papercuts', 'paperless', 'papers', 'papier', 'para', 'paradox2025', 'paranoid', 'parche', 'parecido', 'pareva', 'park', 'parody', 'parts', 'pasaron', 'pass', 'passado', 'passed', 'passing', 'passinõ', 'passion', 'passionate', 'passive', 'passó', 'past', 'patent', 'pathetic', 'patience', 'patiently', 'patterns', 'paul', 'paulõs', 'pause', 'pay', 'paying', 'payne', 'paypal', 'payroll', 'pays', 'pc', 'pcs', 'peace', 'peak', 'peccato', 'peck', 'peckpalit', 'peckpalitchoke', 'pedestrian', 'peep', 'peices', 'penantian', 'pencil', 'penny', 'people', 'peoples', 'perceived', 'perceptions', 'perfect', 'perfectly', 'performance', 'perfume', 'period', 'pero', 'persistence', 'person', 'personal', 'personally', 'personification', 'perspective', 'peru', 'pet', 'peta', 'peter', 'petite', 'petshop', 'pewds', 'pff', 'phew', 'philson', 'phone', 'photography', 'photoshop', 'php', 'phuket', 'physical', 'physically', 'pi3p1rocswc', 'pick', 'picking', 'picture', 'pictures', 'piece', 'pieces', 'pigs', 'piled', 'piles', 'pink', 'piram', 'pirlot', 'pitchñ', 'pity', 'pixalated', 'pixel', 'pixels', 'pixus', 'pizza', 'pl168', 'place', 'placed', 'placement', 'placementó', 'places', 'plan', 'plane', 'planet', 'planning', 'planted', 'plastic', 'plates', 'platforms', 'play', 'playback', 'played', 'playing', 'pleaaaaaaaaaaaaaaaaaaaaaaaaaaase', 'pleasant', 'pleasing', 'pllayer064', 'ploy', 'pls', 'plug', 'plugged', 'plus', 'plz', 'poco', 'poem', 'poi', 'point', 'pointing', 'points', 'pointsprizes', 'pokemon', 'polar', 'polerbear', 'policies', 'politicians', 'pollutants', 'pollution', 'poo', 'poor', 'pop', 'popo', 'pops', 'popular', 'por', 'porn', 'porno', 'porque', 'portable', 'portal', 'portlandia', 'pos', 'pose', 'positivity', 'possible', 'post', 'posted', 'poster', 'potcoin', 'potential', 'potremmo', 'pounds', 'pour', 'power', 'powerbank', 'powerful', 'pper', 'ppjopb', 'ppl', 'pr', 'practical', 'practice', 'practices', 'praise', 'prank', 'pray', 'pre', 'preach', 'precisely', 'preface', 'prefer', 'premise', 'prendo', 'preparar', 'preparing', 'preprint', 'presentasio', 'pressured', 'pretended', 'pretentious', 'pretty', 'previous', 'price', 'priced', 'priceless', 'prices', 'primary', 'prince', 'print', 'printed', 'printer', 'printercore', 'printers', 'printers_', 'printertine', 'printing', 'prints', 'prior', 'pro', 'prob', 'probably', 'problem', 'problems', 'proceeds', 'process', 'processes', 'produce', 'producer', 'produces', 'producing', 'product', 'production', 'productions', 'products', 'profit', 'profusely', 'program', 'programmable', 'programmed', 'programmers', 'programming', 'progress', 'project', 'projected', 'projection', 'prolly', 'promise', 'promises', 'promote', 'promoting', 'pronounce', 'proof', 'proper', 'properly', 'props', 'proud', 'prove', 'proven', 'proving', 'prowess', 'przzfadp02o', 'ps', 'pseudo', 'psyzcu', 'pt', 'pu', 'pub', 'public', 'puerto', 'pull', 'pulp', 'pump', 'pun', 'punish', 'punishment', 'punk', 'purcell', 'purchase', 'pure', 'purely', 'purpose', 'push', 'pushing', 'puta', 'putin', 'puts', 'putting', 'q4ttff3', 'quaking', 'quality', 'quando', 'quanta', 'quarterly', 'que', 'quedado', 'quedesperdicio', 'queen', 'queste', 'question', 'questions', 'quick', 'quickly', 'quien', 'quienes', 'quiero', 'quietly', 'quit', 'quite', 'r01', 'r6rp', 'race', 'races', 'racial', 'radio', 'rain', 'rainbow', 'rainforest', 'raise', 'raised', 'raiser', 'raising', 'ralph', 'ram', 'rambosantoni', 'ran', 'rand', 'random', 'randomly', 'rap', 'rapper', 'rapture', 'rate', 'rationally', 'ratliff', 'rcid', 'react', 'reaction', 'reactions', 'reactor', 'read', 'reader', 'reading', 'ready', 'real', 'realise', 'realize', 'realized', 'really', 'realm', 'realé', 'rearó', 'reason', 'reasons', 'rebooted', 'reborn', 'receive', 'received', 'recent', 'recently', 'recicle', 'recicled', 'reckon', 'recognition', 'recognized', 'recommended', 'record', 'recording', 'records', 'recover', 'recuerda', 'recycle', 'recycled', 'recycler', 'recycles', 'recycling', 'recyling', 'red', 'redbubble', 'redeem', 'redefined', 'redible', 'reduce', 'reducing', 'reems', 'ref', 'refcode', 'refer', 'reference', 'references', 'refid', 'refills', 'refreshing', 'regardless', 'register', 'regret', 'regular', 'rehearse', 'rekt', 'related', 'release', 'released', 'releases', 'releasing', 'reliability', 'reliable', 'relieved', 'relized', 'relying', 'remake', 'remember', 'remind', 'reminded', 'reminds', 'reminiscent', 'remix', 'removal', 'ren', 'repealed', 'repeat', 'repeating', 'repent', 'repentance', 'repetitive', 'replay', 'replies', 'report', 'reports', 'republican', 'required', 'requires', 'res', 'research', 'researching', 'resolution', 'resolve', 'resources', 'respect', 'respond', 'responded', 'responses', 'ressources', 'rest', 'result', 'retakes', 'retarded', 'retards', 'retro', 'return', 'returned', 'returns', 'reuse', 'reused', 'rev', 'revelation', 'revelations', 'revenge', 'revenue', 'review', 'revolutionary', 'rewatch', 'rfid', 'rg2xqtit_ek', 'rgb', 'rhenj', 'rhinohumpback', 'rhizomatiks', 'ricegum', 'rico', 'ricroll', 'ridiculos', 'ridiculous', 'ridêculas', 'right', 'righteous', 'righthand', 'rigidity', 'ringo', 'rip', 'rising', 'ritzó', 'riven', 'river', 'robert', 'robles', 'robocop', 'rock', 'rogue', 'roll', 'rombo', 'rose', 'rover', 'row', 'rsj', 'rube', 'rubs', 'rude', 'ruff', 'ruined', 'ruining', 'ruins', 'rules', 'rumour', 'run', 'runner', 'running', 'runs', 'rus', 'russia', 'russia_____________________________', 'russian', 'rvore', 'rzepaku', 's6567aedc4', 's7', 's__', 's_hr_ib', 's_hreib', 's_hw_rz_', 'sabin', 'sacrifice', 'sacrificed', 'sad', 'saddest', 'sadly', 'safe', 'sagen', 'said', 'saith', 'sake', 'sakura', 'salarydaily', 'sale', 'sales', 'salt', 'saludos', 'salute', 'samsung', 'samuel', 'sandytheartist', 'sargeras', 'satisfacci', 'satisfied', 'satisfiying', 'satisfying', 'saturation', 'sauce', 'save', 'saved', 'saving', 'savior', 'saw', 'say', 'saying', 'says', 'scami', 'scammers', 'scamss', 'scene', 'scenes', 'sch', 'school', 'schrute', 'science', 'scientific', 'scientifically', 'scissors', 'scott', 'scottõs', 'screaming', 'screen', 'screens', 'screw', 'screws', 'scroll', 'scrolling', 'se', 'search', 'searching', 'sebuah', 'sec', 'second', 'secondary', 'secondly', 'seconds', 'section', 'seeing', 'seek', 'seen', 'sees', 'seg', 'seizing', 'seizure', 'seizures', 'seizzzuurururureeeurrrureueieerr', 'seldom', 'self', 'selfishness', 'sell', 'sellouts', 'sempre', 'send', 'sensation', 'sense', 'sensei', 'senseless', 'sensitive', 'sent', 'sentence', 'sentences', 'sepanjang', 'sequence', 'ser', 'series', 'seriously', 'serpents', 'serve', 'server', 'service', 'serving', 'sesame', 'set', 'sets', 'setting', 'settle', 'setup', 'seus', 'severely', 'sexy', 'shall', 'shalom', 'shame', 'shapes', 'share', 'shared', 'sharing', 'sheena', 'sheeple', 'sheer', 'sheet', 'sheets', 'shhh', 'shiiiiiiiiiii', 'ship', 'shipping', 'ships', 'shit', 'shite', 'shitload', 'shits', 'shitty', 'shity', 'shock', 'shocked', 'shocking', 'shoes', 'shook', 'shoot', 'shooting', 'shop', 'short', 'shortage', 'shot', 'shoul', 'shoulda', 'shoulder', 'shouldn', 'shouldõve', 'showcasing', 'showed', 'showing', 'shows', 'shut', 'shutting', 'si', 'sia', 'sick', 'sides', 'sie', 'siempre', 'sigan', 'sigh', 'sighned', 'sight', 'sightedness', 'sign', 'signal', 'signed', 'signing', 'signs', 'silence', 'similar', 'simon', 'simple', 'simplemente', 'simpler', 'simplistic', 'simply', 'simulator', 'sin', 'sind', 'sing', 'singer', 'singers', 'singing', 'single', 'sins', 'sit', 'site', 'sites', 'sits', 'size', 'skanks', 'skateboards', 'skill', 'skinned', 'skip', 'skipped', 'skripsi', 'slaughter', 'sledge', 'sledgehammer', 'slight', 'slightly', 'slip', 'slipped', 'sloth', 'slow', 'slowed', 'slurpee', 'sm', 'small', 'smallest', 'smart', 'smarter', 'smell', 'smh', 'smile', 'smiling', 'smith', 'smoke', 'smooth', 'smoothness', 'smudges', 'smuthii', 'snail', 'snazzy', 'sneaky', 'snow', 'snyths', 'soci', 'social', 'socialblade', 'society', 'software', 'sol', 'solar', 'sold', 'soldarelli', 'solere', 'solid', 'somebody', 'son', 'song', 'songs', 'sons', 'sonõs', 'soo', 'soon', 'sooo', 'soooo', 'sooooo', 'soooooooo', 'sorely', 'soretro', 'sorprender', 'sorry', 'sorry_', 'sort', 'sorters', 'soul', 'sound', 'soundcloud', 'sounded', 'sounds', 'soundtrack', 'sour', 'source', 'sources', 'south', 'space', 'spanish', 'spaventa', 'speachless', 'speak', 'speaking', 'speaks', 'special', 'specific', 'spectacular', 'speculate', 'sped', 'speech', 'speed', 'spell', 'spelled', 'spelling', 'spells', 'spend', 'spending', 'spends', 'spent', 'spirit', 'spirits', 'spiritual', 'spitting', 'splendid', 'spoiler', 'spon', 'sponsor', 'sponsored', 'sponsors', 'sponsorship', 'sponsorships', 'sports', 'sposed', 'spotify', 'spotlight', 'spots', 'spreading', 'sqares', 'squeeze', 'srsly', 'stack', 'stacked', 'stackin', 'staff', 'staffs', 'stage', 'stages', 'stale', 'stan', 'stance', 'standard', 'standing', 'stands', 'staples', 'star', 'starbucks', 'start', 'started', 'starting', 'startmycash', 'starts', 'starvation', 'starving', 'state', 'stave', 'stay', 'stayed', 'steal', 'steam', 'stem', 'step', 'stepped', 'steps', 'ster', 'stick', 'sticking', 'stockdale', 'stomach', 'stoned', 'stop', 'stopped', 'stopper', 'stops', 'store', 'story', 'stra_nou', 'strange', 'stranger', 'stream', 'streaming', 'street', 'stress', 'stressed', 'stressing', 'strings', 'stroke', 'stronger', 'struggling', 'strung', 'stubborn', 'stuck', 'student', 'students', 'studiare', 'studio', 'study', 'studying', 'stuff', 'stumble', 'stumbled', 'stumps', 'stunning', 'stupid', 'sturdahl', 'style', 'su', 'su__h_n', 'su_h_', 'sub', 'sub_confirmation', 'subbing', 'subcribe', 'subliminal', 'subs', 'subscribe', 'subscribed', 'subscriber', 'subscribers', 'subscribing', 'subtitles', 'succeed', 'success', 'successfully', 'suck', 'sucked', 'sucks', 'suckwd', 'sudo', 'suesten', 'suggest', 'sugoi', 'suicide', 'summer', 'super', 'support', 'supporting', 'supports', 'suppose', 'supposed', 'sure', 'surprise', 'surprised', 'surprising', 'survey', 'survival', 'survive', 'survived', 'susceptible', 'suscribe', 'suspect', 'sustainability', 'sustainable', 'sustaining', 'sustenance', 'sux', 'swear', 'sweatco', 'sweating', 'sweet', 'swell', 'swooswide', 'sword1214', 'symbols', 'sync', 'synced', 'synchronised', 'synchronized', 'syncing', 'syncronize', 'ta', 'tab', 'tabula', 'tactile', 'tag', 'taken', 'takes', 'taking', 'takov', 'talent', 'talented', 'talk', 'talking', 'tally', 'tambi', 'tan', 'tanta', 'targeted', 'tasking', 'taste', 'tastes', 'tat', 'taught', 'taylor', 'taytay', 'tbh', 'te', 'teach', 'teacher', 'team', 'teamwork', 'teardrop', 'tech', 'technical', 'technically', 'technician', 'technologies', 'technology', 'tecnologia', 'teenamarie23art', 'teeth', 'television', 'tell', 'tells', 'tema', 'tendencia', 'tendency', 'tending', 'tenho', 'tenth', 'terms', 'terrible', 'terror', 'terrorist', 'terrorists', 'tes', 'tesosola', 'test', 'testament', 'testimony', 'tests', 'text', 'tf', 'tg5', 'thailand', 'thank', 'thankful', 'thanks', 'thanksgiving', 'thaor59d45g', 'thar', 'thats', 'thatõs', 'theboss', 'theclocktowergifts', 'theirs', 'thelivingtombstone', 'theme', 'theocracy', 'theory', 'theres', 'thereõs', 'thes', 'theses', 'thesis', 'thess', 'theyre', 'theyõll', 'theyõre', 'theyõve', 'thier', 'thing', 'things', 'think', 'thinking', 'thinks', 'thinkyouknowmusic', 'thirdly', 'this__', 'thissss', 'tho', 'tho__', 'thought', 'thousand', 'thousands', 'thr', 'threw', 'thrill', 'thrive', 'throats', 'throbbing', 'thropic', 'throttle', 'throw', 'throwing', 'throws', 'thumb', 'thumbs', 'thurston', 'thx', 'ti', 'tiene', 'tienen', 'tier', 'tights', 'tiles', 'tim', 'timbers', 'time', 'time_continue', 'timebucks', 'timed', 'timers', 'times', 'timing', 'tin', 'ting', 'tings', 'tiny', 'tira', 'tired', 'tisha', 'tissues', 'tits', 'toady', 'toby', 'today', 'todo', 'toilet', 'tokens', 'told', 'toledo', 'tom', 'tomar', 'tomorrow', 'toms', 'ton', 'toner', 'tonight', 'tons', 'took', 'tools', 'topic', 'topped', 'total', 'totally', 'totes', 'touch', 'town', 'toxic', 'toxins', 'trabalho', 'track', 'trade', 'traditional', 'traffic', 'trailer', 'trajectory', 'translate', 'translation', 'transportation', 'trash', 'travel', 'treadmill', 'treadmills', 'treadmils', 'treasured', 'treasures', 'treat', 'treats', 'tree', 'tree_', 'trees', 'trees__', 'trees___', 'trend', 'trending', 'trendings', 'trends', 'tribulation', 'trick', 'tricked', 'tricks', 'tried', 'tries', 'triggered', 'trip', 'tripped', 'tripping', 'trippy', 'trish', 'troll', 'troppo', 'trouble', 'troubles', 'true', 'truly', 'truth', 'truthfully', 'try', 'trying', 'ttempt', 'tu', 'tube589hd', 'tumba', 'tumblr', 'tune', 'tunze', 'turn', 'turned', 'turning', 'tutti', 'tv', 'twality', 'twats', 'twerkin', 'twitter', 'type', 'typing', 'ub_rall', 'uc2zgziwnyij1qulyt8hgvqg', 'ucg', 'ucjnjo6v9qzmr6ffwadt5hrg', 'uczhopfntubtogpwx6dj4utq', 'ugh', 'uh', 'uk', 'ultra', 'um', 'umm', 'ummm', 'un1vxp_qrw4', 'unapologetically', 'unbeatable', 'unbelievable', 'uncanny', 'uncommon', 'uncreative', 'und', 'underrated', 'understand', 'understanding', 'understatement', 'undertones', 'underwater', 'underwhelming', 'undisputed', 'unedited', 'unesco', 'unexpected', 'unf', 'unfair', 'unfathomable', 'unfortunately', 'uni', 'unicorn', 'unimpressed', 'uninspired', 'unique', 'unite', 'universal', 'university', 'unless', 'unlistenable', 'unmanaged', 'unoriginal', 'unpredictable', 'unreal', 'unrealistic', 'unsubbing', 'unterbieten', 'unusable', 'unwatchable', 'unwitting', 'uo6hmi', 'uplifting', 'upload', 'uploaded', 'uppity', 'ups', 'upsaide', 'upset', 'upside', 'ur', 'urs', 'usa', 'usage', 'usaste', 'use', 'used', 'used___', 'useful', 'user', 'users', 'uses', 'using', 'usual', 'usually', 'utf8', 'utter', 'utube', 'uuugh', 'uybgkozw9fk', 'uyki', 'uz6oyrnpuqa', 'v1', 'vacvqbug5s4', 'valid', 'valuable', 'value', 'values', 'vampire', 'van', 'vandalism', 'vanguard', 'vanity', 'vayanse', 've', 'vega', 'vegetable', 'vei', 'vein', 'venezuela', 'ver', 'verbo', 'verdade', 'verga', 'verizon', 'verse', 'version', 'vevo', 'vfx', 'vibe', 'vibes', 'vibrant', 'viceo', 'victims', 'vid', 'vida', 'vidal', 'video', 'video_', 'videoclip', 'videoclips', 'videoes', 'videoooooooooo', 'videos', 'videos_', 'videoó', 'vidf6vjlpzc', 'vidio', 'vids', 'viel', 'view', 'viewer', 'viewers', 'views', 'vimeo', 'vinci', 'vino', 'viola', 'violet', 'viral', 'virtual', 'virus', 'vision', 'visit', 'visto', 'visual', 'visually', 'visuals', 'vjiwgz_', 'vk', 'voglio', 'vogt', 'voice', 'voices', 'volume', 'volver', 'vote', 'voted', 'w_', 'w_rd_', 'w_rt_n', 'waaaaay', 'wager', 'waist', 'waisted', 'wait', 'waited', 'waiting', 'wake', 'walk', 'walked', 'wall', 'waller', 'wallet', 'wallets', 'wang', 'wanna', 'wannabe', 'wannnabe', 'want', 'wanted', 'wantmake', 'wants', 'waoh', 'warm_', 'warming', 'warning', 'warning_', 'warnings', 'warping', 'wars', 'wasn', 'wasnt', 'wasnõt', 'wassap', 'wast', 'wastage', 'waste', 'wasted', 'wasteful', 'wastefull', 'waster', 'wasting', 'wat', 'watch', 'watche', 'watched', 'watches', 'watching', 'water', 'wauw', 'wave', 'way', 'ways', 'wcxjxivsvoy', 'weak', 'wears', 'weather', 'website', 'websites', 'wee', 'week', 'weekend', 'weekly', 'weeks', 'weeping', 'weird', 'weirded', 'weirdos', 'welcome', 'welfare', 'welt', 'went', 'weren', 'werid', 'weste', 'wha', 'whaaaaaaat', 'whaaat', 'whaf', 'whalesand', 'whatchu', 'whats', 'whatttttevver', 'whatõs', 'whereõs', 'whine', 'whirring', 'white', 'whites', 'whith', 'whitout', 'whoa', 'whoaé', 'whooa', 'whooooooaaaaa', 'wicked', 'wife', 'wiggles', 'wild', 'wildcats', 'williams', 'win', 'wind', 'windows', 'wine', 'winning', 'wins', 'wipe', 'wire', 'wires', 'wise', 'wish', 'witchcraft', 'withe', 'withhold', 'witnessed', 'witnesses', 'wls6ix7ma0w', 'woah', 'wohlh_b_nd_n', 'women', 'won', 'wonder', 'wonderful', 'wondering', 'wont', 'wonõt', 'wooaaaaaaaaaaaaaaaaaaaaaaaaaa', 'wood', 'woods', 'wooohhhoooo', 'woooooohooooo', 'wooooooow', 'woooooow', 'wooowwwwww', 'woow', 'wops', 'word', 'words', 'wore', 'work', 'worked', 'workers', 'working', 'works', 'workstations', 'world', 'worlds', 'worried', 'worry', 'worse', 'worst', 'worth', 'worthier', 'worthless', 'worthy', 'wouldn', 'wouldnõt', 'wouldõve', 'wow', 'wowie', 'wowowowowowowowowowowowowowoowowowowowowowo', 'wowza', 'wp4llxdp2lw', 'wrap', 'write', 'writer', 'writes', 'writing', 'wrong', 'wrote', 'wtf', 'wuuuuuuuuuuuuuuuuuuuut', 'wuz', 'www', 'wwwooowww', 'x4', 'xbox', 'xd', 'xddd', 'xerox', 'xl', 'xm2', 'xvl7a', 'xx', 'xxxxx', 'ya', 'yaaaaallllllllllll', 'yaaaaassssssss', 'yaaasss', 'yaibdax5zp4', 'yakut', 'yang', 'yanina', 'yankstaspaz', 'yanse', 'yass', 'yasss', 'yawn', 'yay', 'yayy', 'yea', 'yeaaaaaaaaaaaaaaaaaaaaaaah', 'yeah', 'year', 'years', 'yeeeeeees', 'yelling', 'yep', 'yes', 'yessss', 'yesyesjob', 'yikes', 'ymfmnbsyeo8', 'yo', 'york', 'young', 'youre', 'youthjobz', 'youtu', 'youtube', 'youtubers', 'youtubes', 'youõll', 'youõre', 'youõve', 'ypmddyafrb4', 'ypur', 'yqssjcc', 'yr', 'yt', 'yuck', 'yurlosn', 'yyyyyeeeeaaaasssss', 'yõall', 'z_rtli_hk_it', 'zander', 'zane', 'zech', 'zero', 'zniwa', 'zone', 'zu', 'zygote', 'àno', 'çrboles', 'êeveryone', 'êhttps', 'êi', 'êmaybe', 'ênever', 'êphenomenal', 'êquesti', 'êthank', 'òa', 'òblack', 'òblatant', 'òits', 'òitsobsessionó', 'òitõs', 'òmake', 'ònah', 'òspanish', 'òtaco', 'òthis', 'òwhy', 'òyour', 'ôcause', 'ôem']\n"
     ]
    }
   ],
   "source": [
    "# print(count_vectorizer.get_feature_names())"
   ]
  },
  {
   "cell_type": "code",
   "execution_count": 16,
   "metadata": {},
   "outputs": [
    {
     "name": "stdout",
     "output_type": "stream",
     "text": [
      "  (0, 2118)\t1\n",
      "  (0, 4198)\t1\n",
      "  (0, 4368)\t1\n",
      "  (0, 1295)\t1\n",
      "  (0, 131)\t1\n",
      "  (1, 581)\t1\n",
      "  (1, 1066)\t1\n",
      "  (1, 2537)\t1\n",
      "  (2, 2933)\t1\n",
      "  (2, 2896)\t1\n",
      "  (2, 2437)\t1\n",
      "  (2, 3721)\t1\n",
      "  (2, 2491)\t1\n",
      "  (2, 3384)\t1\n",
      "  (2, 4374)\t1\n",
      "  (2, 1236)\t1\n",
      "  (2, 2513)\t2\n",
      "  (2, 516)\t1\n",
      "  (2, 4167)\t1\n",
      "  (2, 4136)\t1\n",
      "  (2, 923)\t1\n",
      "  (2, 3093)\t1\n",
      "  (2, 129)\t1\n",
      "  (2, 2261)\t1\n",
      "  (2, 2604)\t1\n",
      "  :\t:\n",
      "  (3254, 1967)\t1\n",
      "  (3255, 3170)\t1\n",
      "  (3255, 698)\t1\n",
      "  (3255, 3407)\t1\n",
      "  (3255, 3036)\t1\n",
      "  (3256, 381)\t1\n",
      "  (3257, 1458)\t1\n",
      "  (3257, 2786)\t1\n",
      "  (3257, 2554)\t1\n",
      "  (3257, 2490)\t2\n",
      "  (3258, 1190)\t1\n",
      "  (3258, 3494)\t1\n",
      "  (3258, 2467)\t1\n",
      "  (3258, 3976)\t1\n",
      "  (3258, 2866)\t1\n",
      "  (3258, 968)\t1\n",
      "  (3258, 1817)\t1\n",
      "  (3258, 1892)\t1\n",
      "  (3258, 2403)\t1\n",
      "  (3258, 1967)\t1\n",
      "  (3259, 2718)\t1\n",
      "  (3260, 4221)\t1\n",
      "  (3260, 3351)\t1\n",
      "  (3260, 1742)\t1\n",
      "  (3260, 384)\t1\n"
     ]
    }
   ],
   "source": [
    "# np.isnan(count_train)\n",
    "# np.all(np.isfinite(count_train))\n",
    "type(count_train) # scipy.sparse.csr.csr_matrix: SciPy 2-D sparse matrix\n",
    "\n",
    "print(count_train)"
   ]
  },
  {
   "cell_type": "code",
   "execution_count": 61,
   "metadata": {
    "collapsed": true
   },
   "outputs": [],
   "source": [
    "nb_class = MultinomialNB()"
   ]
  },
  {
   "cell_type": "code",
   "execution_count": 62,
   "metadata": {},
   "outputs": [
    {
     "ename": "ValueError",
     "evalue": "Input contains NaN, infinity or a value too large for dtype('float64').",
     "output_type": "error",
     "traceback": [
      "\u001b[0;31m---------------------------------------------------------------------------\u001b[0m",
      "\u001b[0;31mValueError\u001b[0m                                Traceback (most recent call last)",
      "\u001b[0;32m<ipython-input-62-2a1cb66dc0fc>\u001b[0m in \u001b[0;36m<module>\u001b[0;34m()\u001b[0m\n\u001b[0;32m----> 1\u001b[0;31m \u001b[0mnb_classifier\u001b[0m\u001b[0;34m.\u001b[0m\u001b[0mfit\u001b[0m\u001b[0;34m(\u001b[0m\u001b[0mcount_train\u001b[0m\u001b[0;34m,\u001b[0m \u001b[0my_train\u001b[0m\u001b[0;34m)\u001b[0m\u001b[0;34m\u001b[0m\u001b[0m\n\u001b[0m",
      "\u001b[0;32m/Library/Frameworks/Python.framework/Versions/3.6/lib/python3.6/site-packages/sklearn/naive_bayes.py\u001b[0m in \u001b[0;36mfit\u001b[0;34m(self, X, y, sample_weight)\u001b[0m\n\u001b[1;32m    577\u001b[0m             \u001b[0mReturns\u001b[0m \u001b[0mself\u001b[0m\u001b[0;34m.\u001b[0m\u001b[0;34m\u001b[0m\u001b[0m\n\u001b[1;32m    578\u001b[0m         \"\"\"\n\u001b[0;32m--> 579\u001b[0;31m         \u001b[0mX\u001b[0m\u001b[0;34m,\u001b[0m \u001b[0my\u001b[0m \u001b[0;34m=\u001b[0m \u001b[0mcheck_X_y\u001b[0m\u001b[0;34m(\u001b[0m\u001b[0mX\u001b[0m\u001b[0;34m,\u001b[0m \u001b[0my\u001b[0m\u001b[0;34m,\u001b[0m \u001b[0;34m'csr'\u001b[0m\u001b[0;34m)\u001b[0m\u001b[0;34m\u001b[0m\u001b[0m\n\u001b[0m\u001b[1;32m    580\u001b[0m         \u001b[0m_\u001b[0m\u001b[0;34m,\u001b[0m \u001b[0mn_features\u001b[0m \u001b[0;34m=\u001b[0m \u001b[0mX\u001b[0m\u001b[0;34m.\u001b[0m\u001b[0mshape\u001b[0m\u001b[0;34m\u001b[0m\u001b[0m\n\u001b[1;32m    581\u001b[0m \u001b[0;34m\u001b[0m\u001b[0m\n",
      "\u001b[0;32m/Library/Frameworks/Python.framework/Versions/3.6/lib/python3.6/site-packages/sklearn/utils/validation.py\u001b[0m in \u001b[0;36mcheck_X_y\u001b[0;34m(X, y, accept_sparse, dtype, order, copy, force_all_finite, ensure_2d, allow_nd, multi_output, ensure_min_samples, ensure_min_features, y_numeric, warn_on_dtype, estimator)\u001b[0m\n\u001b[1;32m    577\u001b[0m     \u001b[0;32melse\u001b[0m\u001b[0;34m:\u001b[0m\u001b[0;34m\u001b[0m\u001b[0m\n\u001b[1;32m    578\u001b[0m         \u001b[0my\u001b[0m \u001b[0;34m=\u001b[0m \u001b[0mcolumn_or_1d\u001b[0m\u001b[0;34m(\u001b[0m\u001b[0my\u001b[0m\u001b[0;34m,\u001b[0m \u001b[0mwarn\u001b[0m\u001b[0;34m=\u001b[0m\u001b[0;32mTrue\u001b[0m\u001b[0;34m)\u001b[0m\u001b[0;34m\u001b[0m\u001b[0m\n\u001b[0;32m--> 579\u001b[0;31m         \u001b[0m_assert_all_finite\u001b[0m\u001b[0;34m(\u001b[0m\u001b[0my\u001b[0m\u001b[0;34m)\u001b[0m\u001b[0;34m\u001b[0m\u001b[0m\n\u001b[0m\u001b[1;32m    580\u001b[0m     \u001b[0;32mif\u001b[0m \u001b[0my_numeric\u001b[0m \u001b[0;32mand\u001b[0m \u001b[0my\u001b[0m\u001b[0;34m.\u001b[0m\u001b[0mdtype\u001b[0m\u001b[0;34m.\u001b[0m\u001b[0mkind\u001b[0m \u001b[0;34m==\u001b[0m \u001b[0;34m'O'\u001b[0m\u001b[0;34m:\u001b[0m\u001b[0;34m\u001b[0m\u001b[0m\n\u001b[1;32m    581\u001b[0m         \u001b[0my\u001b[0m \u001b[0;34m=\u001b[0m \u001b[0my\u001b[0m\u001b[0;34m.\u001b[0m\u001b[0mastype\u001b[0m\u001b[0;34m(\u001b[0m\u001b[0mnp\u001b[0m\u001b[0;34m.\u001b[0m\u001b[0mfloat64\u001b[0m\u001b[0;34m)\u001b[0m\u001b[0;34m\u001b[0m\u001b[0m\n",
      "\u001b[0;32m/Library/Frameworks/Python.framework/Versions/3.6/lib/python3.6/site-packages/sklearn/utils/validation.py\u001b[0m in \u001b[0;36m_assert_all_finite\u001b[0;34m(X)\u001b[0m\n\u001b[1;32m     42\u001b[0m             and not np.isfinite(X).all()):\n\u001b[1;32m     43\u001b[0m         raise ValueError(\"Input contains NaN, infinity\"\n\u001b[0;32m---> 44\u001b[0;31m                          \" or a value too large for %r.\" % X.dtype)\n\u001b[0m\u001b[1;32m     45\u001b[0m \u001b[0;34m\u001b[0m\u001b[0m\n\u001b[1;32m     46\u001b[0m \u001b[0;34m\u001b[0m\u001b[0m\n",
      "\u001b[0;31mValueError\u001b[0m: Input contains NaN, infinity or a value too large for dtype('float64')."
     ]
    }
   ],
   "source": [
    "nb_class.fit(count_train, y_train) "
   ]
  },
  {
   "cell_type": "code",
   "execution_count": 60,
   "metadata": {},
   "outputs": [
    {
     "ename": "NotFittedError",
     "evalue": "This MultinomialNB instance is not fitted yet. Call 'fit' with appropriate arguments before using this method.",
     "output_type": "error",
     "traceback": [
      "\u001b[0;31m---------------------------------------------------------------------------\u001b[0m",
      "\u001b[0;31mNotFittedError\u001b[0m                            Traceback (most recent call last)",
      "\u001b[0;32m<ipython-input-60-8d6e3f1def84>\u001b[0m in \u001b[0;36m<module>\u001b[0;34m()\u001b[0m\n\u001b[0;32m----> 1\u001b[0;31m \u001b[0mpred\u001b[0m \u001b[0;34m=\u001b[0m \u001b[0mnb_classifier\u001b[0m\u001b[0;34m.\u001b[0m\u001b[0mpredict\u001b[0m\u001b[0;34m(\u001b[0m\u001b[0mcount_test\u001b[0m\u001b[0;34m)\u001b[0m\u001b[0;34m\u001b[0m\u001b[0m\n\u001b[0m",
      "\u001b[0;32m/Library/Frameworks/Python.framework/Versions/3.6/lib/python3.6/site-packages/sklearn/naive_bayes.py\u001b[0m in \u001b[0;36mpredict\u001b[0;34m(self, X)\u001b[0m\n\u001b[1;32m     64\u001b[0m             \u001b[0mPredicted\u001b[0m \u001b[0mtarget\u001b[0m \u001b[0mvalues\u001b[0m \u001b[0;32mfor\u001b[0m \u001b[0mX\u001b[0m\u001b[0;34m\u001b[0m\u001b[0m\n\u001b[1;32m     65\u001b[0m         \"\"\"\n\u001b[0;32m---> 66\u001b[0;31m         \u001b[0mjll\u001b[0m \u001b[0;34m=\u001b[0m \u001b[0mself\u001b[0m\u001b[0;34m.\u001b[0m\u001b[0m_joint_log_likelihood\u001b[0m\u001b[0;34m(\u001b[0m\u001b[0mX\u001b[0m\u001b[0;34m)\u001b[0m\u001b[0;34m\u001b[0m\u001b[0m\n\u001b[0m\u001b[1;32m     67\u001b[0m         \u001b[0;32mreturn\u001b[0m \u001b[0mself\u001b[0m\u001b[0;34m.\u001b[0m\u001b[0mclasses_\u001b[0m\u001b[0;34m[\u001b[0m\u001b[0mnp\u001b[0m\u001b[0;34m.\u001b[0m\u001b[0margmax\u001b[0m\u001b[0;34m(\u001b[0m\u001b[0mjll\u001b[0m\u001b[0;34m,\u001b[0m \u001b[0maxis\u001b[0m\u001b[0;34m=\u001b[0m\u001b[0;36m1\u001b[0m\u001b[0;34m)\u001b[0m\u001b[0;34m]\u001b[0m\u001b[0;34m\u001b[0m\u001b[0m\n\u001b[1;32m     68\u001b[0m \u001b[0;34m\u001b[0m\u001b[0m\n",
      "\u001b[0;32m/Library/Frameworks/Python.framework/Versions/3.6/lib/python3.6/site-packages/sklearn/naive_bayes.py\u001b[0m in \u001b[0;36m_joint_log_likelihood\u001b[0;34m(self, X)\u001b[0m\n\u001b[1;32m    720\u001b[0m     \u001b[0;32mdef\u001b[0m \u001b[0m_joint_log_likelihood\u001b[0m\u001b[0;34m(\u001b[0m\u001b[0mself\u001b[0m\u001b[0;34m,\u001b[0m \u001b[0mX\u001b[0m\u001b[0;34m)\u001b[0m\u001b[0;34m:\u001b[0m\u001b[0;34m\u001b[0m\u001b[0m\n\u001b[1;32m    721\u001b[0m         \u001b[0;34m\"\"\"Calculate the posterior log probability of the samples X\"\"\"\u001b[0m\u001b[0;34m\u001b[0m\u001b[0m\n\u001b[0;32m--> 722\u001b[0;31m         \u001b[0mcheck_is_fitted\u001b[0m\u001b[0;34m(\u001b[0m\u001b[0mself\u001b[0m\u001b[0;34m,\u001b[0m \u001b[0;34m\"classes_\"\u001b[0m\u001b[0;34m)\u001b[0m\u001b[0;34m\u001b[0m\u001b[0m\n\u001b[0m\u001b[1;32m    723\u001b[0m \u001b[0;34m\u001b[0m\u001b[0m\n\u001b[1;32m    724\u001b[0m         \u001b[0mX\u001b[0m \u001b[0;34m=\u001b[0m \u001b[0mcheck_array\u001b[0m\u001b[0;34m(\u001b[0m\u001b[0mX\u001b[0m\u001b[0;34m,\u001b[0m \u001b[0maccept_sparse\u001b[0m\u001b[0;34m=\u001b[0m\u001b[0;34m'csr'\u001b[0m\u001b[0;34m)\u001b[0m\u001b[0;34m\u001b[0m\u001b[0m\n",
      "\u001b[0;32m/Library/Frameworks/Python.framework/Versions/3.6/lib/python3.6/site-packages/sklearn/utils/validation.py\u001b[0m in \u001b[0;36mcheck_is_fitted\u001b[0;34m(estimator, attributes, msg, all_or_any)\u001b[0m\n\u001b[1;32m    766\u001b[0m \u001b[0;34m\u001b[0m\u001b[0m\n\u001b[1;32m    767\u001b[0m     \u001b[0;32mif\u001b[0m \u001b[0;32mnot\u001b[0m \u001b[0mall_or_any\u001b[0m\u001b[0;34m(\u001b[0m\u001b[0;34m[\u001b[0m\u001b[0mhasattr\u001b[0m\u001b[0;34m(\u001b[0m\u001b[0mestimator\u001b[0m\u001b[0;34m,\u001b[0m \u001b[0mattr\u001b[0m\u001b[0;34m)\u001b[0m \u001b[0;32mfor\u001b[0m \u001b[0mattr\u001b[0m \u001b[0;32min\u001b[0m \u001b[0mattributes\u001b[0m\u001b[0;34m]\u001b[0m\u001b[0;34m)\u001b[0m\u001b[0;34m:\u001b[0m\u001b[0;34m\u001b[0m\u001b[0m\n\u001b[0;32m--> 768\u001b[0;31m         \u001b[0;32mraise\u001b[0m \u001b[0mNotFittedError\u001b[0m\u001b[0;34m(\u001b[0m\u001b[0mmsg\u001b[0m \u001b[0;34m%\u001b[0m \u001b[0;34m{\u001b[0m\u001b[0;34m'name'\u001b[0m\u001b[0;34m:\u001b[0m \u001b[0mtype\u001b[0m\u001b[0;34m(\u001b[0m\u001b[0mestimator\u001b[0m\u001b[0;34m)\u001b[0m\u001b[0;34m.\u001b[0m\u001b[0m__name__\u001b[0m\u001b[0;34m}\u001b[0m\u001b[0;34m)\u001b[0m\u001b[0;34m\u001b[0m\u001b[0m\n\u001b[0m\u001b[1;32m    769\u001b[0m \u001b[0;34m\u001b[0m\u001b[0m\n\u001b[1;32m    770\u001b[0m \u001b[0;34m\u001b[0m\u001b[0m\n",
      "\u001b[0;31mNotFittedError\u001b[0m: This MultinomialNB instance is not fitted yet. Call 'fit' with appropriate arguments before using this method."
     ]
    }
   ],
   "source": [
    "pred = nb_classifier.predict(count_test)"
   ]
  },
  {
   "cell_type": "code",
   "execution_count": null,
   "metadata": {
    "collapsed": true
   },
   "outputs": [],
   "source": [
    "score = metrics.accuracy_score(y_test, pred)"
   ]
  }
 ],
 "metadata": {
  "kernelspec": {
   "display_name": "Python 3",
   "language": "python",
   "name": "python3"
  },
  "language_info": {
   "codemirror_mode": {
    "name": "ipython",
    "version": 3
   },
   "file_extension": ".py",
   "mimetype": "text/x-python",
   "name": "python",
   "nbconvert_exporter": "python",
   "pygments_lexer": "ipython3",
   "version": "3.6.2"
  }
 },
 "nbformat": 4,
 "nbformat_minor": 2
}
