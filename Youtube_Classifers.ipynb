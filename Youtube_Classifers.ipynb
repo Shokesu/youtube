{
 "cells": [
  {
   "cell_type": "markdown",
   "metadata": {},
   "source": [
    "# YouTube Comments NLP Notebook"
   ]
  },
  {
   "cell_type": "code",
   "execution_count": 151,
   "metadata": {},
   "outputs": [
    {
     "data": {
      "text/html": [
       "<script>requirejs.config({paths: { 'plotly': ['https://cdn.plot.ly/plotly-latest.min']},});if(!window.Plotly) {{require(['plotly'],function(plotly) {window.Plotly=plotly;});}}</script>"
      ],
      "text/vnd.plotly.v1+html": [
       "<script>requirejs.config({paths: { 'plotly': ['https://cdn.plot.ly/plotly-latest.min']},});if(!window.Plotly) {{require(['plotly'],function(plotly) {window.Plotly=plotly;});}}</script>"
      ]
     },
     "metadata": {},
     "output_type": "display_data"
    }
   ],
   "source": [
    "# Basics\n",
    "import pandas as pd\n",
    "import os\n",
    "import csv\n",
    "import numpy as np\n",
    "\n",
    "## Sklearn\n",
    "import sklearn # machine learning\n",
    "from sklearn.feature_extraction.text import CountVectorizer # frequency counts matrix\n",
    "from sklearn.model_selection import train_test_split # splitting up data\n",
    "from sklearn import metrics # for accuracy/ precision\n",
    "from sklearn.feature_extraction.text import TfidfTransformer\n",
    "from sklearn.naive_bayes import MultinomialNB \n",
    "from sklearn.linear_model import SGDClassifier # Support Vector Machine Classifier\n",
    "# multinomial Naive Bayes classifier is suitable for classification with discrete features (e.g., word counts for text classification)\n",
    "\n",
    "# Dashboard/ Plotly Packages:\n",
    "import plotly.dashboard_objs as dashboard\n",
    "import IPython.display\n",
    "from IPython.display import Image\n",
    "import plotly.plotly as py\n",
    "import plotly.graph_objs as go\n",
    "from plotly.offline import download_plotlyjs, init_notebook_mode, plot, iplot\n",
    "init_notebook_mode(connected=True)\n",
    "from pylab import *"
   ]
  },
  {
   "cell_type": "markdown",
   "metadata": {},
   "source": [
    "## Read in & Clean Data\n",
    "Note that we have to use encoding = \"latin-1\" instead of UTF-8 because we have foreign languages present\n",
    "The different encodings treat characters differently (in latin-1 each character is only one byte long whereas in utf-8 it can me more than one byte in length). Typically utf-8 captures more types of characters, so it was surprising that we had to use latin-8. \n",
    "* for later: look into this more: http://www.unicode.org/reports/tr10/"
   ]
  },
  {
   "cell_type": "code",
   "execution_count": 81,
   "metadata": {
    "collapsed": true
   },
   "outputs": [],
   "source": [
    "os.chdir('/Users/andiedonovan/myProjects/Youtube/') # change directory\n",
    "df = pd.read_csv('labeledCom.csv', delimiter=\";\", skiprows=2, encoding='latin-1', engine='python') # read in the data"
   ]
  },
  {
   "cell_type": "code",
   "execution_count": 82,
   "metadata": {},
   "outputs": [
    {
     "name": "stdout",
     "output_type": "stream",
     "text": [
      "   label                                            comment\n",
      "0   -1.0  Everyone knows brand's papers from.\\nBut -No o...\n",
      "1    0.0       ñYour paper cut balance is: \\n-£25279102771î\n",
      "2    1.0  OH SHIT WHEN I SAW THIS ON MY FRONT PAGE.........\n",
      "3    1.0                          Blowing my mind yet again\n",
      "4    0.0               Should have gone with Dunder Mifflin\n"
     ]
    }
   ],
   "source": [
    "# rename the columns\n",
    "df.columns = [\n",
    "  'label',\n",
    "  'comment', \n",
    "  'column3'\n",
    "]\n",
    "df = df.drop('column3', axis = 1).dropna() # drop column 3 and missing values\n",
    "print(df.head(5))"
   ]
  },
  {
   "cell_type": "markdown",
   "metadata": {},
   "source": [
    "## Split into Training and Test Data\n",
    "Using a pre-defined train-test-split function, we randomly split the data into training data (75%) and test data (25%). We set the x variable for both to the comments, since these are the attributes we will use for classificationand the y variable to the label, as this is what we are trying to predict. The random_state paramteter is simply for reproducability (otherwise the function would produce a different split every time we ran it). "
   ]
  },
  {
   "cell_type": "code",
   "execution_count": 83,
   "metadata": {
    "collapsed": true
   },
   "outputs": [],
   "source": [
    "X_train, X_test, Y_train, Y_test = train_test_split(\n",
    "                                        df[\"comment\"], df[\"label\"], \n",
    "                                        test_size=0.25, \n",
    "                                       random_state=42)"
   ]
  },
  {
   "cell_type": "markdown",
   "metadata": {},
   "source": [
    "Let's make sure all of the data looks good:"
   ]
  },
  {
   "cell_type": "code",
   "execution_count": 84,
   "metadata": {},
   "outputs": [
    {
     "name": "stdout",
     "output_type": "stream",
     "text": [
      "lengths training variables:  820 , 820\n",
      "lengths testing variables:  274 , 274 \n",
      "\n",
      "Are there any missing values? \n",
      " * Training: False , False \n",
      " * Testing:  False , False\n"
     ]
    }
   ],
   "source": [
    "print('lengths training variables: ', len(X_train),\",\", len(Y_train))\n",
    "print('lengths testing variables: ', len(X_test),\",\", len(Y_test), '\\n')\n",
    "\n",
    "print('Are there any missing values?', \n",
    "      '\\n * Training:', pd.isnull(X_train).values.any(), ',', pd.isnull(Y_train).values.any(), \n",
    "      '\\n * Testing: ', pd.isnull(X_test).values.any(), \",\", pd.isnull(Y_test).values.any())"
   ]
  },
  {
   "cell_type": "code",
   "execution_count": 85,
   "metadata": {},
   "outputs": [
    {
     "data": {
      "text/plain": [
       "pandas.core.series.Series"
      ]
     },
     "execution_count": 85,
     "metadata": {},
     "output_type": "execute_result"
    }
   ],
   "source": [
    "type(X_test) # we have a pandas core Series; we just want the comments in an array without numbering\n",
    "# help(X_test) # use values attribute\n",
    "# we will want to use X_test.values(), Y_train.values(), .... to just access the data in list format"
   ]
  },
  {
   "cell_type": "markdown",
   "metadata": {},
   "source": [
    "## Building a Model\n",
    "Documentation: [Scikit-Learn Documentation]('http://scikit-learn.org/stable/tutorial/text_analytics/working_with_text_data.html#exercise-2-sentiment-analysis-on-movie-reviews')\n",
    "\n",
    "We want to initialize a Count Vectorizer, which will convert the comments to a matrix of token (word) counts. This produces a sparse representation of the counts\n",
    "We then fit the model using our training data"
   ]
  },
  {
   "cell_type": "code",
   "execution_count": 86,
   "metadata": {
    "collapsed": true
   },
   "outputs": [],
   "source": [
    "cv = CountVectorizer() \n",
    "x_train_counts = cv.fit_transform(X_train.values) # fit_transform to counts"
   ]
  },
  {
   "cell_type": "code",
   "execution_count": 87,
   "metadata": {},
   "outputs": [
    {
     "data": {
      "text/plain": [
       "scipy.sparse.csr.csr_matrix"
      ]
     },
     "execution_count": 87,
     "metadata": {},
     "output_type": "execute_result"
    }
   ],
   "source": [
    "type(x_train_counts) # scipy.sparse.csr.csr_matrix "
   ]
  },
  {
   "cell_type": "code",
   "execution_count": 88,
   "metadata": {
    "collapsed": true
   },
   "outputs": [],
   "source": [
    "# tf_transformer = TfidfTransformer(use_idf=False).fit(x_train_counts) # term frequency inverse document frequency matrix\n",
    "# I think this is a different way of transforming our data to counts, instead of just using 'transform'"
   ]
  },
  {
   "cell_type": "markdown",
   "metadata": {},
   "source": [
    "### Transform test values as well:"
   ]
  },
  {
   "cell_type": "code",
   "execution_count": 90,
   "metadata": {
    "collapsed": true
   },
   "outputs": [],
   "source": [
    "x_test_counts = cv.transform(X_test.values) # transform test data as well (but we don't need to train it since its test data!)"
   ]
  },
  {
   "cell_type": "markdown",
   "metadata": {},
   "source": [
    "### Initializing the Classifier: "
   ]
  },
  {
   "cell_type": "code",
   "execution_count": 91,
   "metadata": {},
   "outputs": [
    {
     "data": {
      "text/plain": [
       "MultinomialNB(alpha=1.0, class_prior=None, fit_prior=True)"
      ]
     },
     "execution_count": 91,
     "metadata": {},
     "output_type": "execute_result"
    }
   ],
   "source": [
    "mnb = MultinomialNB()\n",
    "mnb.fit(x_train_counts, Y_train) # fit the model on the training data word counts and training data lables"
   ]
  },
  {
   "cell_type": "markdown",
   "metadata": {},
   "source": [
    "###  Making the predictions:"
   ]
  },
  {
   "cell_type": "code",
   "execution_count": 92,
   "metadata": {
    "collapsed": true
   },
   "outputs": [],
   "source": [
    "mnb_predict = mnb.predict(x_test_counts) # make our y predictions (labels) on the comment test data"
   ]
  },
  {
   "cell_type": "code",
   "execution_count": 93,
   "metadata": {},
   "outputs": [
    {
     "name": "stdout",
     "output_type": "stream",
     "text": [
      "-1.0\n",
      "0.0\n",
      "0.0\n",
      "1.0\n",
      "1.0\n",
      "1.0\n",
      "0.0\n",
      "-1.0\n",
      "1.0\n",
      "-1.0\n"
     ]
    }
   ],
   "source": [
    "for i in mnb_predict[:10]:\n",
    "    print (i)"
   ]
  },
  {
   "cell_type": "code",
   "execution_count": 94,
   "metadata": {
    "collapsed": true
   },
   "outputs": [],
   "source": [
    "# pd.DataFrame(predicted_labels).groupby(['-1.0','0.0','1.0']).size()"
   ]
  },
  {
   "cell_type": "markdown",
   "metadata": {},
   "source": [
    "### How well did we do?? (AKA accuracy metrics)"
   ]
  },
  {
   "cell_type": "code",
   "execution_count": 109,
   "metadata": {
    "collapsed": true
   },
   "outputs": [],
   "source": [
    "mnb_acc = metrics.accuracy_score(Y_test, mnb_predict)"
   ]
  },
  {
   "cell_type": "code",
   "execution_count": 110,
   "metadata": {},
   "outputs": [
    {
     "name": "stdout",
     "output_type": "stream",
     "text": [
      "We obtained  0.594891 % accuracy for the model\n"
     ]
    }
   ],
   "source": [
    "print('We obtained ', round(mnb_acc, 6), '% accuracy for the model')"
   ]
  },
  {
   "cell_type": "code",
   "execution_count": 111,
   "metadata": {},
   "outputs": [
    {
     "data": {
      "text/plain": [
       "0.5948905109489051"
      ]
     },
     "execution_count": 111,
     "metadata": {},
     "output_type": "execute_result"
    }
   ],
   "source": [
    "np.mean(mnb_predict == Y_test)  # same score, different method"
   ]
  },
  {
   "cell_type": "code",
   "execution_count": 98,
   "metadata": {},
   "outputs": [
    {
     "name": "stdout",
     "output_type": "stream",
     "text": [
      "Here is the Classification Report: \n",
      "\n",
      "             precision    recall  f1-score   support\n",
      "\n",
      "       -1.0       0.59      0.46      0.52        83\n",
      "        0.0       0.57      0.47      0.51        91\n",
      "        1.0       0.61      0.82      0.70       100\n",
      "\n",
      "avg / total       0.59      0.59      0.58       274\n",
      "\n"
     ]
    }
   ],
   "source": [
    "print('Here is the Classification Report: \\n')\n",
    "print(metrics.classification_report(Y_test, mnb_predict))"
   ]
  },
  {
   "cell_type": "code",
   "execution_count": 99,
   "metadata": {},
   "outputs": [
    {
     "name": "stdout",
     "output_type": "stream",
     "text": [
      "Here is the Confusion Matrix: \n",
      "\n"
     ]
    },
    {
     "data": {
      "text/plain": [
       "array([[38, 19, 26],\n",
       "       [22, 43, 26],\n",
       "       [ 4, 14, 82]])"
      ]
     },
     "execution_count": 99,
     "metadata": {},
     "output_type": "execute_result"
    }
   ],
   "source": [
    "print('Here is the Confusion Matrix: \\n')\n",
    "metrics.confusion_matrix(Y_test, mnb_predict)"
   ]
  },
  {
   "cell_type": "markdown",
   "metadata": {},
   "source": [
    "### Using a TF-IDF Transformation\n",
    "* instead of just counting the number of occurences bluntly, the term frequency inverse document frequency transformation weights words based on their number of occurences in each document (aka comment) compared to occurences in the entire corpus (aka collection of comments)\n",
    "* can also be used to remove stop words"
   ]
  },
  {
   "cell_type": "code",
   "execution_count": 108,
   "metadata": {},
   "outputs": [
    {
     "name": "stdout",
     "output_type": "stream",
     "text": [
      "We obtained  0.543796 % accuracy for the tf-idf transformed model\n"
     ]
    }
   ],
   "source": [
    "tfidf_transformer = TfidfTransformer()\n",
    "x_tfidf_tr = tfidf_transformer.fit_transform(x_train_counts)\n",
    "x_tfidf_tst = tfidf_transformer.transform(x_test_counts)\n",
    "mnb2 = MultinomialNB()\n",
    "mnb2.fit(x_tfidf_tr, Y_train)\n",
    "tfidf_pred = mnb2.predict(x_tfidf_tst)\n",
    "tfidf_acc = metrics.accuracy_score(Y_test, tfidf_pred)\n",
    "print('We obtained ', round(tfidf_acc, 6), '% accuracy for the tf-idf transformed model')"
   ]
  },
  {
   "cell_type": "markdown",
   "metadata": {},
   "source": [
    "Accuracy actually decreased! A possible explanation is that the comments are typically very short and likely to do not have many repeating words, which could have created a skewed set of weights favoring the content of long or more repetative comments (not really sure though...)"
   ]
  },
  {
   "cell_type": "markdown",
   "metadata": {},
   "source": [
    "## Using the SGD (Stochastic Gradient Descent) Learning \n",
    "> \"The gradient of the loss is estimated each sample at a time and the model is updated along the way with a decreasing strength schedule (aka learning rate). SGD allows minibatch (online/out-of-core) learning, see the partial_fit method. For best results using the default learning rate schedule, the data should have zero mean and unit variance. This implementation works with data represented as dense or sparse arrays of floating point values for the features. The model it fits can be controlled with the loss parameter; by default, it fits a linear support vector machine (SVM).\"\n",
    "[Scikit-Learn Documenttion](http://scikit-learn.org/stable/modules/generated/sklearn.linear_model.SGDClassifier.html)\n",
    "\n",
    "\n",
    "Essentially SGD tries to find an extrema through iteration. In this case we are dealing with likelihood functions in which each algorithm tries to find the classification (positive, neutral or negative) with the highest likelihood of occuring (or probability of being correct in a sense). We want to maximize this likelihood while minimizing inaccuracies (Type I/ Type II Errors) and computational expenditure. We might have to revisit material on [Statistical Powers](https://en.wikipedia.org/wiki/Statistical_power). The count vectorizer transformation converts our data to a sparse matrix, which represents the model features (aka comments & their word counts) in matrix-form where the majority of the entries are zero. \n",
    "\n",
    "\n",
    "\n",
    "**Loss-Functions**: maps different events to a \"cost\" or price paid for inaccuracy of predictions/ classifications. Purpose is to choose the optimal loss function (aka try to minimize costly inaccuracies)"
   ]
  },
  {
   "cell_type": "markdown",
   "metadata": {},
   "source": [
    "### Logistic Regression"
   ]
  },
  {
   "cell_type": "code",
   "execution_count": 106,
   "metadata": {},
   "outputs": [
    {
     "name": "stdout",
     "output_type": "stream",
     "text": [
      "We obtained  0.638686 % accuracy for the logistic regression model\n"
     ]
    }
   ],
   "source": [
    "sgd = SGDClassifier(loss='log', penalty='l2', alpha=1e-3, max_iter=5, tol=None, random_state=1) \n",
    "sgd.fit(x_train_counts, Y_train)\n",
    "sgd_predict = sgd.predict(x_test_counts)\n",
    "sgd_acc = metrics.accuracy_score(Y_test, sgd_predict)\n",
    "print('We obtained ', round(sgd_acc, 6), '% accuracy for the logistic regression model')"
   ]
  },
  {
   "cell_type": "markdown",
   "metadata": {},
   "source": [
    "**Classifier Parameters:**\n",
    "* loss parameter set to 'log' to use logistic regression\n",
    "* penalty: regularization term; sparsity or feature selection\n",
    "    * the process of introducing additional information in order to prevent overfitting/ sparsity overlaps: [regularization](https://en.wikipedia.org/wiki/Regularization_(mathematics))\n",
    "* alpha: smoothing parameter? \n",
    "* max_iter: how many times to pass over the training data\n",
    "* tol: stopping criterion; counts losses\n",
    "* verbosity - using more factors than necessary; want to maximize parsimony"
   ]
  },
  {
   "cell_type": "markdown",
   "metadata": {},
   "source": [
    "### Linear Support Vector Machine (SVM)"
   ]
  },
  {
   "cell_type": "code",
   "execution_count": 107,
   "metadata": {},
   "outputs": [
    {
     "name": "stdout",
     "output_type": "stream",
     "text": [
      "We obtained  0.613139 % accuracy for the SVM model\n"
     ]
    }
   ],
   "source": [
    "svm = SGDClassifier(loss='hinge', penalty='l2', alpha=1e-3, max_iter=5, tol=None, random_state=1) # penalty, loss, alpha paramters\n",
    "svm.fit(x_train_counts, Y_train)\n",
    "svm_predict = svm.predict(x_test_counts)\n",
    "svm_acc = metrics.accuracy_score(Y_test, svm_predict)\n",
    "print('We obtained ', round(svm_acc, 6), '% accuracy for the SVM model')"
   ]
  },
  {
   "cell_type": "markdown",
   "metadata": {},
   "source": [
    "We specify the loss parameter to 'hinge' to use linear SVM "
   ]
  },
  {
   "cell_type": "markdown",
   "metadata": {},
   "source": [
    "## Next Steps: \n",
    "1. Feature Engineering:\n",
    "    * Look at Peter Norvig's [Spelling Corrector](http://norvig.com/spell-correct.html)\n",
    "    * Meta Features, Stemming, Speech Tagging, etc.:\n",
    "        * [NLP Blog Post](http://www.vikparuchuri.com/blog/natural-language-processing-tutorial/)\n",
    "        * [Stanford Post](https://nlp.stanford.edu/IR-book/html/htmledition/features-for-text-1.html)\n",
    "2. Try out more models; see if we can pre-process the data better?\n",
    "    * Random Forests (Decision Trees), 'Ensembling' algorithms?\n",
    "3. Add more videos/ comments for diversity of diction/ sentiments\n",
    "4. Create a clean way of presenting results (ie with comments and their predicted classification. Maybe we can highlight the correct ones in green and the wrong ones in red?)\n",
    "5. Data Visualization / Dashboard?\n",
    "    * [Plotly](https://plot.ly/python/create-online-dashboard/)\n",
    "    * [Tutorial](https://moderndata.plot.ly/create-a-plotly-dashboards-in-under-10-minutes/)"
   ]
  },
  {
   "cell_type": "markdown",
   "metadata": {},
   "source": [
    "## Data Visualization"
   ]
  },
  {
   "cell_type": "code",
   "execution_count": 148,
   "metadata": {},
   "outputs": [],
   "source": [
    "df.groupby(['label']).size()\n",
    "neg_sent = df.loc[df['label'] < 0]\n",
    "d1 = len(neg_sent)\n",
    "d2 = len(zer_sent)\n",
    "d3 = len(pos_sent)\n",
    "zer_sent = df.loc[df['label'] == 0]\n",
    "pos_sent = df.loc[df['label'] > 0]"
   ]
  },
  {
   "cell_type": "code",
   "execution_count": 155,
   "metadata": {},
   "outputs": [
    {
     "data": {
      "image/png": "[encoded data removed]",
      "text/plain": [
       "<matplotlib.figure.Figure at 0x10eded668>"
      ]
     },
     "metadata": {},
     "output_type": "display_data"
    }
   ],
   "source": [
    "labels = ['Negative','Neutral', \"Positive\"]\n",
    "values = [d1, d2, d3]\n",
    "#trace = go.Figure(labels=labels, values=values)\n",
    "#iplot(trace)\n",
    "\n",
    "pie(values, labels=labels)\n",
    "title('Initial Division of Sentiment')\n",
    "show()"
   ]
  },
  {
   "cell_type": "code",
   "execution_count": 163,
   "metadata": {},
   "outputs": [
    {
     "data": {
      "image/png": "[encoded data removed]",
      "text/plain": [
       "<matplotlib.figure.Figure at 0x10efab4a8>"
      ]
     },
     "metadata": {},
     "output_type": "display_data"
    }
   ],
   "source": [
    "labels = ['MNB','SVM', \"LR\"]\n",
    "values = [mnb_acc, svm_acc, sgd_acc]\n",
    "ypos = np.arange(len(labels))\n",
    "\n",
    "plt.bar(ypos, values, align='center', alpha=0.5)\n",
    "plt.xticks(ypos, labels)\n",
    "plt.ylabel('% Accuracy')\n",
    "plt.xlabel('Model Type')\n",
    "plt.title('Accuracy of Classification Models')\n",
    "show()"
   ]
  },
  {
   "cell_type": "markdown",
   "metadata": {},
   "source": [
    "## Dashboard"
   ]
  },
  {
   "cell_type": "code",
   "execution_count": 177,
   "metadata": {},
   "outputs": [],
   "source": [
    "dash = dashboard.Dashboard()\n",
    "PieBox = {\n",
    "    'type': 'box',\n",
    "    'boxType': 'plot',\n",
    "    'fileId': 'xxx',\n",
    "    'title': 'pie-for-dashboard'\n",
    "}\n",
    "BarBox = {\n",
    "    'type': 'box',\n",
    "    'boxType': 'plot',\n",
    "    'fileId': 'xxx',\n",
    "    'title': 'bar-for-dashboard'\n",
    "}\n",
    "dash.insert(PieBox)\n",
    "dash.insert(BarBox, 'right', 1)"
   ]
  },
  {
   "cell_type": "code",
   "execution_count": 178,
   "metadata": {},
   "outputs": [
    {
     "data": {
      "text/html": [
       "\n",
       "<!DOCTYPE HTML>\n",
       "<html>\n",
       "  <head>\n",
       "    <style>\n",
       "      body {\n",
       "        margin: 0px;\n",
       "        padding: 0px;\n",
       "      }\n",
       "    </style>\n",
       "  </head>\n",
       "  <body>\n",
       "    <canvas id=\"myCanvas\" width=\"400\" height=\"400\"></canvas>\n",
       "    <script>\n",
       "      var canvas = document.getElementById('myCanvas');\n",
       "      var context = canvas.getContext('2d');\n",
       "      <!-- Dashboard -->\n",
       "      context.beginPath();\n",
       "      context.rect(0, 0, 400, 400);\n",
       "      context.lineWidth = 2;\n",
       "      context.strokeStyle = 'black';\n",
       "      context.stroke();\n",
       "     <!-- Draw some lines in -->\n",
       "          context.beginPath();\n",
       "          context.rect(200.0, 0, 1, 400);\n",
       "          context.lineWidth = 1;\n",
       "          context.strokeStyle = 'black';\n",
       "          context.stroke();\n",
       "    <!-- Insert box numbers -->\n",
       "          context.font = '10pt Times New Roman';\n",
       "          context.textAlign = 'center';\n",
       "          context.fillText(1, 0 + 0.5*200.0, 0 + 0.5*400);\n",
       "    <!-- Insert box numbers -->\n",
       "          context.font = '10pt Times New Roman';\n",
       "          context.textAlign = 'center';\n",
       "          context.fillText(2, 200.0 + 0.5*200.0, 0 + 0.5*400);\n",
       "     </script>\n",
       "  </body>\n",
       "</html>\n"
      ],
      "text/plain": [
       "<IPython.core.display.HTML object>"
      ]
     },
     "execution_count": 178,
     "metadata": {},
     "output_type": "execute_result"
    }
   ],
   "source": [
    "dash.get_preview()"
   ]
  },
  {
   "cell_type": "code",
   "execution_count": 174,
   "metadata": {},
   "outputs": [],
   "source": [
    "# py.dashboard_ops.upload(dash, 'Youtube Dashboard')"
   ]
  },
  {
   "cell_type": "code",
   "execution_count": null,
   "metadata": {
    "collapsed": true
   },
   "outputs": [],
   "source": []
  }
 ],
 "metadata": {
  "kernelspec": {
   "display_name": "Python 3",
   "language": "python",
   "name": "python3"
  },
  "language_info": {
   "codemirror_mode": {
    "name": "ipython",
    "version": 3
   },
   "file_extension": ".py",
   "mimetype": "text/x-python",
   "name": "python",
   "nbconvert_exporter": "python",
   "pygments_lexer": "ipython3",
   "version": "3.6.2"
  }
 },
 "nbformat": 4,
 "nbformat_minor": 2
}
